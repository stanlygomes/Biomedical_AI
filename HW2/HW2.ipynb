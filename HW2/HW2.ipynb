{
  "cells": [
    {
      "cell_type": "code",
      "execution_count": 1,
      "id": "f49fc362-c8a4-42d5-9e60-0a7e7ad99993",
      "metadata": {
        "id": "f49fc362-c8a4-42d5-9e60-0a7e7ad99993",
        "outputId": "599d46e5-3115-49ad-b0b6-ec42a2f2f2f0",
        "colab": {
          "base_uri": "https://localhost:8080/"
        }
      },
      "outputs": [
        {
          "output_type": "stream",
          "name": "stdout",
          "text": [
            "[name: \"/device:CPU:0\"\n",
            "device_type: \"CPU\"\n",
            "memory_limit: 268435456\n",
            "locality {\n",
            "}\n",
            "incarnation: 11949654995323375865\n",
            "xla_global_id: -1\n",
            "]\n"
          ]
        }
      ],
      "source": [
        "from keras import applications\n",
        "from keras.preprocessing.image import ImageDataGenerator\n",
        "from keras.optimizers import Adam\n",
        "from keras.models import Model\n",
        "from keras.layers import Input, Convolution2D, MaxPool2D, Dense, Flatten, Dropout\n",
        "from keras.callbacks import TensorBoard, ModelCheckpoint, EarlyStopping\n",
        "from keras.utils.vis_utils import plot_model\n",
        "\n",
        "import matplotlib.pyplot as plt\n",
        "from sklearn.model_selection import train_test_split\n",
        "\n",
        "from pathlib import Path\n",
        "import pandas as pd\n",
        "import numpy as np\n",
        "\n",
        "from datetime import datetime\n",
        "import os\n",
        "\n",
        "from tensorflow.python.client import device_lib\n",
        "import tensorflow as tf\n",
        "print(device_lib.list_local_devices())"
      ]
    },
    {
      "cell_type": "code",
      "execution_count": 2,
      "id": "15ecbe97-bb5e-4337-9db1-23f489568b3f",
      "metadata": {
        "id": "15ecbe97-bb5e-4337-9db1-23f489568b3f",
        "outputId": "36d8ba25-5d19-4ce4-dc8a-8df04d9c6e1e",
        "colab": {
          "base_uri": "https://localhost:8080/"
        }
      },
      "outputs": [
        {
          "output_type": "stream",
          "name": "stdout",
          "text": [
            "Mounted at /content/gdrive\n"
          ]
        }
      ],
      "source": [
        "from google.colab import drive\n",
        "import os\n",
        "drive.mount('/content/gdrive')"
      ]
    },
    {
      "cell_type": "code",
      "execution_count": null,
      "id": "aff21468-05f2-4a70-a2e9-bb992c289bee",
      "metadata": {
        "id": "aff21468-05f2-4a70-a2e9-bb992c289bee"
      },
      "outputs": [],
      "source": [
        "# Unzip data to session drive\n",
        "!unzip -u \"/content/gdrive/MyDrive/tiny_Data.zip\" -d \"/content/\""
      ]
    },
    {
      "cell_type": "code",
      "source": [],
      "metadata": {
        "id": "7sg_31YFD1wS"
      },
      "id": "7sg_31YFD1wS",
      "execution_count": null,
      "outputs": []
    }
  ],
  "metadata": {
    "kernelspec": {
      "display_name": "Python 3 (ipykernel)",
      "language": "python",
      "name": "python3"
    },
    "language_info": {
      "codemirror_mode": {
        "name": "ipython",
        "version": 3
      },
      "file_extension": ".py",
      "mimetype": "text/x-python",
      "name": "python",
      "nbconvert_exporter": "python",
      "pygments_lexer": "ipython3",
      "version": "3.9.16"
    },
    "colab": {
      "provenance": []
    }
  },
  "nbformat": 4,
  "nbformat_minor": 5
}