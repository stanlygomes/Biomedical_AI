{
  "cells": [
    {
      "cell_type": "code",
      "execution_count": 1,
      "metadata": {
        "colab": {
          "base_uri": "https://localhost:8080/"
        },
        "id": "MU7sVAjgO6uw",
        "outputId": "ff21a887-c8af-4edf-f612-5ae71ce9c578"
      },
      "outputs": [
        {
          "output_type": "stream",
          "name": "stdout",
          "text": [
            "Mounted at /content/gdrive\n"
          ]
        }
      ],
      "source": [
        "from google.colab import drive\n",
        "import os\n",
        "drive.mount('/content/gdrive')"
      ]
    },
    {
      "cell_type": "code",
      "execution_count": 2,
      "metadata": {
        "id": "IAj7YLyTR92G"
      },
      "outputs": [],
      "source": [
        "# Unzip data to session drive\n",
        "# !unzip -u \"/content/gdrive/MyDrive/Biomed_Assignment1_Data.zip\" -d \"/content\"\n",
        "!unzip -q -u \"/content/gdrive/MyDrive/tiny_Data.zip\" -d \"/content/\""
      ]
    },
    {
      "cell_type": "code",
      "execution_count": 34,
      "metadata": {
        "colab": {
          "base_uri": "https://localhost:8080/"
        },
        "id": "bGVYXMRJUTvQ",
        "outputId": "fa2b2cc3-f34b-41df-f210-15c98cc300a6"
      },
      "outputs": [
        {
          "output_type": "stream",
          "name": "stdout",
          "text": [
            "[name: \"/device:CPU:0\"\n",
            "device_type: \"CPU\"\n",
            "memory_limit: 268435456\n",
            "locality {\n",
            "}\n",
            "incarnation: 9198074096520482043\n",
            "xla_global_id: -1\n",
            ", name: \"/device:GPU:0\"\n",
            "device_type: \"GPU\"\n",
            "memory_limit: 14401011712\n",
            "locality {\n",
            "  bus_id: 1\n",
            "  links {\n",
            "  }\n",
            "}\n",
            "incarnation: 1000763342606451486\n",
            "physical_device_desc: \"device: 0, name: Tesla T4, pci bus id: 0000:00:04.0, compute capability: 7.5\"\n",
            "xla_global_id: 416903419\n",
            "]\n"
          ]
        }
      ],
      "source": [
        "from keras import applications\n",
        "from keras.preprocessing.image import ImageDataGenerator\n",
        "from keras.optimizers import Adam\n",
        "from keras.models import Model\n",
        "from keras.layers import Input, Convolution2D, MaxPool2D, Dense, Flatten, Dropout\n",
        "from keras.callbacks import TensorBoard, ModelCheckpoint, EarlyStopping\n",
        "from keras.utils.vis_utils import plot_model\n",
        "from sklearn.metrics import classification_report, confusion_matrix\n",
        "\n",
        "import matplotlib.pyplot as plt\n",
        "from sklearn.model_selection import train_test_split\n",
        "\n",
        "from pathlib import Path\n",
        "import pandas as pd\n",
        "import numpy as np\n",
        "\n",
        "from datetime import datetime\n",
        "import os\n",
        "import cv2\n",
        "import random\n",
        "\n",
        "from tensorflow.python.client import device_lib\n",
        "import tensorflow as tf\n",
        "print(device_lib.list_local_devices())"
      ]
    },
    {
      "cell_type": "code",
      "execution_count": 4,
      "metadata": {
        "colab": {
          "base_uri": "https://localhost:8080/"
        },
        "id": "eI6TjEUXuC9y",
        "outputId": "383fcddd-adc5-488d-a662-1c50381a67b1"
      },
      "outputs": [
        {
          "output_type": "stream",
          "name": "stdout",
          "text": [
            "Type of classification:  categorical\n",
            "Loss function:  categorical_crossentropy\n",
            "Activation function:  softmax\n"
          ]
        }
      ],
      "source": [
        "# Setup\n",
        "fold_num = 1\n",
        "\n",
        "# Image Size\n",
        "img_width, img_height, img_depth = 128, 128, 3\n",
        "data_dir = Path('/content/Data_Small')\n",
        "data_dir_train = data_dir / 'train'\n",
        "data_dir_test = data_dir / 'test'\n",
        "\n",
        "epochs = 10\n",
        "freq = 20\n",
        "batch_size = 40\n",
        "num_classes = 2\n",
        "train_valid_split = 0.2\n",
        "\n",
        "class_weights = {0: 2.,\n",
        "                1: 1.,\n",
        "                2: 1.}\n",
        "\n",
        "if num_classes < 2:\n",
        "    act_type = 'sigmoid'\n",
        "    class_mode = 'binary'\n",
        "    loss_fun = 'binary_crossentropy'\n",
        "else:\n",
        "    act_type = 'softmax'\n",
        "    class_mode = 'categorical'\n",
        "    loss_fun = 'categorical_crossentropy'\n",
        "print('Type of classification: ', class_mode)\n",
        "print('Loss function: ', loss_fun)\n",
        "print('Activation function: ', act_type)"
      ]
    },
    {
      "cell_type": "markdown",
      "metadata": {
        "id": "WlP5t41sTSen"
      },
      "source": [
        "*Explanation of hyperparameters*\n",
        "\n",
        "Epochs: I first trained with 5 max epochs, which resulted in cutting off the max learning potential (loss was still decreasing). Increased to 10, which resulted in reaching close to absolute minimum.\n",
        "\n",
        "Learning rate: Based on the example code given, I used the same learning rate as it performed well for this case based on the loss plot below. It may have been possible to get a smoother loss descent with a smaller learning rate, but that would require much more epochs.\n",
        "\n",
        "Batch Size: With the default batch size of 32, my training worked well but the loss plot was quite eratic. Since I had more VRAM available, I increased the batch size to allow the calculated loss to encapsulate more data samples."
      ]
    },
    {
      "cell_type": "markdown",
      "source": [
        "## Creating custom DataGenerator"
      ],
      "metadata": {
        "id": "BvKRVJ1R66jq"
      }
    },
    {
      "cell_type": "markdown",
      "source": [
        "### Make CSV with datapath and ground truths"
      ],
      "metadata": {
        "id": "4NHyYgTs7BAZ"
      }
    },
    {
      "cell_type": "code",
      "source": [
        "train_dir_list = os.listdir(data_dir_train)\n",
        "test_dir_list = os.listdir(data_dir_test)\n",
        "print ('Train Classes: ', train_dir_list)\n",
        "print ('Test Classes: ', test_dir_list)"
      ],
      "metadata": {
        "id": "BdzV5AZt6_iO",
        "outputId": "cbb87ff4-00bc-4e3a-c136-630275ba7489",
        "colab": {
          "base_uri": "https://localhost:8080/"
        }
      },
      "execution_count": 5,
      "outputs": [
        {
          "output_type": "stream",
          "name": "stdout",
          "text": [
            "Train Classes:  ['DRUSEN', 'DME']\n",
            "Test Classes:  ['DRUSEN', 'DME']\n"
          ]
        }
      ]
    },
    {
      "cell_type": "code",
      "source": [
        "index_labels = {'DRUSEN':0, 'DME':1}"
      ],
      "metadata": {
        "id": "wgons14h8a_u"
      },
      "execution_count": 6,
      "outputs": []
    },
    {
      "cell_type": "code",
      "source": [
        "# Dataframes for holding train and test set CSVs\n",
        "train_df = pd.DataFrame(columns=['File', 'Label', 'ClassName'])\n",
        "val_df = pd.DataFrame(columns=['File', 'Label', 'ClassName'])\n",
        "\n",
        "test_df = pd.DataFrame(columns=['File', 'Label', 'ClassName'])"
      ],
      "metadata": {
        "id": "nVY25kcz8rwk"
      },
      "execution_count": 7,
      "outputs": []
    },
    {
      "cell_type": "code",
      "source": [
        "# TRAIN: Load image names and ground truths into cv2\n",
        "for directory in train_dir_list:\n",
        "  # Load file names of each image in training set\n",
        "  train_files = os.listdir(os.path.join(data_dir_train, directory))\n",
        "  # Progress Statement for loading images\n",
        "  print ('Loading the images of dataset-'+'{}\\n'.format(directory))\n",
        "  index_label = index_labels[directory]\n",
        "  num_files = len(train_files)\n",
        "  # 20% of train set will be validation set\n",
        "  val_index = random.sample(range(1, num_files-1), (int(num_files * 0.2)))\n",
        "  \n",
        "  for i in range(num_files):\n",
        "    name = train_files[i]\n",
        "    filename = os.path.join(data_dir_train, directory, name)\n",
        "\n",
        "    input = cv2.imread(filename)\n",
        "    shape = input.shape\n",
        "    if i in val_index:\n",
        "      val_df = val_df.append({'File': filename, 'Label': index_label, 'ClassName': directory}, ignore_index=True)\n",
        "    else:\n",
        "      train_df = train_df.append({'File': filename, 'Label': index_label, 'ClassName': directory}, ignore_index=True)\n",
        "  \n",
        "  print('{0} images found from {1} directory\\n'.format(num_files, directory))\n",
        "\n",
        "# TEST: Load image names and ground truths into cv2\n",
        "for directory in test_dir_list:\n",
        "  # Load file names of each image in training set\n",
        "  test_files = os.listdir(os.path.join(data_dir_test, directory))\n",
        "  # Progress Statement for loading images\n",
        "  print ('Loading the images of dataset-'+'{}\\n'.format(directory))\n",
        "  index_label = index_labels[directory]\n",
        "  num_files = len(test_files)\n",
        "  \n",
        "  for i in range(num_files):\n",
        "    name = test_files[i]\n",
        "    filename = os.path.join(data_dir_test, directory, name)\n",
        "\n",
        "    input = cv2.imread(filename)\n",
        "    shape = input.shape\n",
        "    test_df = test_df.append({'File': filename, 'Label': index_label, 'ClassName': directory}, ignore_index=True)\n",
        "  \n",
        "  print('{0} images found from {1} directory\\n'.format(num_files, directory))"
      ],
      "metadata": {
        "id": "0LMigXBc9cWy",
        "colab": {
          "base_uri": "https://localhost:8080/"
        },
        "outputId": "e2963ca1-f13b-48b0-ca91-19b08af352c9"
      },
      "execution_count": 8,
      "outputs": [
        {
          "output_type": "stream",
          "name": "stdout",
          "text": [
            "Loading the images of dataset-DRUSEN\n",
            "\n",
            "1024 images found from DRUSEN directory\n",
            "\n",
            "Loading the images of dataset-DME\n",
            "\n",
            "1510 images found from DME directory\n",
            "\n",
            "Loading the images of dataset-DRUSEN\n",
            "\n",
            "213 images found from DRUSEN directory\n",
            "\n",
            "Loading the images of dataset-DME\n",
            "\n",
            "301 images found from DME directory\n",
            "\n"
          ]
        }
      ]
    },
    {
      "cell_type": "code",
      "source": [
        "csv_dir = '/content/Data_Small/CSVs'\n",
        "if not os.path.exists(csv_dir):\n",
        "  os.mkdir(csv_dir)\n",
        "train_df.to_csv(csv_dir + '/train.csv')\n",
        "test_df.to_csv(csv_dir + '/test.csv')\n",
        "print('Train and Test CSVs have been created')"
      ],
      "metadata": {
        "colab": {
          "base_uri": "https://localhost:8080/"
        },
        "id": "60uLb55SYiKV",
        "outputId": "71544b52-7a6b-40d7-fd6f-3073b996ab06"
      },
      "execution_count": 9,
      "outputs": [
        {
          "output_type": "stream",
          "name": "stdout",
          "text": [
            "Train and Test CSVs have been created\n"
          ]
        }
      ]
    },
    {
      "cell_type": "markdown",
      "source": [
        "#### Method 1"
      ],
      "metadata": {
        "id": "NxBU6jliKuf2"
      }
    },
    {
      "cell_type": "code",
      "source": [
        "class DataGen_seq(tf.keras.utils.Sequence):\n",
        "  def __init__(self, df, x_col, y_col, batch_size,\n",
        "                 input_size=(img_height, img_width, img_depth),\n",
        "                 shuffle=True,\n",
        "                 aug=True):    \n",
        "    self.df = df.copy()\n",
        "    self.x_col = x_col\n",
        "    self.y_col = y_col\n",
        "    self.batch_size = batch_size\n",
        "    self.input_size = input_size\n",
        "    self.shuffle = shuffle\n",
        "    self.aug = aug\n",
        "    \n",
        "    self.length = len(self.df)\n",
        "    self.label = df[y_col['Label']].nunique()\n",
        "\n",
        "  def on_epoch_end(self):\n",
        "    # Shuffle data after every epoch\n",
        "    if self.shuffle:\n",
        "      self.df = self.df.sample(frac=1).reset_index(drop=True)\n",
        "  \n",
        "  def __getInput(self, dir, size, aug):\n",
        "    # Load and convert image to NumPy array for compatibility\n",
        "    img = tf.keras.preprocessing.image.load_img(dir)\n",
        "    img_arr = tf.keras.preprocessing.image.img_to_array(img)\n",
        "\n",
        "    # Preprocessing\n",
        "    img_arr = tf.image.resize(img_arr, (size[0], size[1])).numpy()\n",
        "    if aug:\n",
        "      img_arr = tf.image.rot90(img_arr, k=random.randint(1, 4))\n",
        "\n",
        "    return img_arr/255.\n",
        "\n",
        "  def __getOutput(self, label, num_classes):\n",
        "    # Return one-hot encoded NumPy array of labels of the size: num_classes\n",
        "    return tf.keras.utils.to_categorical(label, num_classes=num_classes)\n",
        "\n",
        "  def __getData(self, batches):\n",
        "    batch_path = batches[self.x_col['File']]\n",
        "    batch_label = batches[self.y_col['Label']]\n",
        "\n",
        "    x_batch = np.asarray([self.__getInput(x, self.input_size, self.aug) for x in batch_path])\n",
        "    y_batch = np.asarray([self.__getOutput(y, self.label) for y in batch_label])\n",
        "\n",
        "    return x_batch, y_batch\n",
        "  # Load sample and perform preprocessing\n",
        "  def __getitem__(self, index):\n",
        "      batches = self.df[index * self.batch_size:(index+1) * self.batch_size]\n",
        "      x, y = self.__getData(batches)\n",
        "      return x, y\n",
        "\n",
        "  def __len__(self):\n",
        "      return self.length // self.batch_size"
      ],
      "metadata": {
        "id": "EHk5BmMsKwvG"
      },
      "execution_count": 26,
      "outputs": []
    },
    {
      "cell_type": "code",
      "source": [
        "# Check what train_df is\n",
        "train_df"
      ],
      "metadata": {
        "id": "T8xQo5ArSUSf",
        "outputId": "a1424bee-294b-458f-c31e-547f0680a8fd",
        "colab": {
          "base_uri": "https://localhost:8080/",
          "height": 423
        }
      },
      "execution_count": 11,
      "outputs": [
        {
          "output_type": "execute_result",
          "data": {
            "text/plain": [
              "                                                   File Label ClassName\n",
              "0     /content/Data_Small/train/DRUSEN/DRUSEN-457907...     0    DRUSEN\n",
              "1     /content/Data_Small/train/DRUSEN/DRUSEN-466465...     0    DRUSEN\n",
              "2     /content/Data_Small/train/DRUSEN/DRUSEN-783692...     0    DRUSEN\n",
              "3     /content/Data_Small/train/DRUSEN/DRUSEN-117325...     0    DRUSEN\n",
              "4     /content/Data_Small/train/DRUSEN/DRUSEN-107751...     0    DRUSEN\n",
              "...                                                 ...   ...       ...\n",
              "2023   /content/Data_Small/train/DME/DME-633268-44.jpeg     1       DME\n",
              "2024   /content/Data_Small/train/DME/DME-1920087-8.jpeg     1       DME\n",
              "2025    /content/Data_Small/train/DME/DME-993691-3.jpeg     1       DME\n",
              "2026    /content/Data_Small/train/DME/DME-671384-9.jpeg     1       DME\n",
              "2027   /content/Data_Small/train/DME/DME-778975-77.jpeg     1       DME\n",
              "\n",
              "[2028 rows x 3 columns]"
            ],
            "text/html": [
              "\n",
              "  <div id=\"df-5910a6e2-a40d-4726-ad12-b196f6b01e79\">\n",
              "    <div class=\"colab-df-container\">\n",
              "      <div>\n",
              "<style scoped>\n",
              "    .dataframe tbody tr th:only-of-type {\n",
              "        vertical-align: middle;\n",
              "    }\n",
              "\n",
              "    .dataframe tbody tr th {\n",
              "        vertical-align: top;\n",
              "    }\n",
              "\n",
              "    .dataframe thead th {\n",
              "        text-align: right;\n",
              "    }\n",
              "</style>\n",
              "<table border=\"1\" class=\"dataframe\">\n",
              "  <thead>\n",
              "    <tr style=\"text-align: right;\">\n",
              "      <th></th>\n",
              "      <th>File</th>\n",
              "      <th>Label</th>\n",
              "      <th>ClassName</th>\n",
              "    </tr>\n",
              "  </thead>\n",
              "  <tbody>\n",
              "    <tr>\n",
              "      <th>0</th>\n",
              "      <td>/content/Data_Small/train/DRUSEN/DRUSEN-457907...</td>\n",
              "      <td>0</td>\n",
              "      <td>DRUSEN</td>\n",
              "    </tr>\n",
              "    <tr>\n",
              "      <th>1</th>\n",
              "      <td>/content/Data_Small/train/DRUSEN/DRUSEN-466465...</td>\n",
              "      <td>0</td>\n",
              "      <td>DRUSEN</td>\n",
              "    </tr>\n",
              "    <tr>\n",
              "      <th>2</th>\n",
              "      <td>/content/Data_Small/train/DRUSEN/DRUSEN-783692...</td>\n",
              "      <td>0</td>\n",
              "      <td>DRUSEN</td>\n",
              "    </tr>\n",
              "    <tr>\n",
              "      <th>3</th>\n",
              "      <td>/content/Data_Small/train/DRUSEN/DRUSEN-117325...</td>\n",
              "      <td>0</td>\n",
              "      <td>DRUSEN</td>\n",
              "    </tr>\n",
              "    <tr>\n",
              "      <th>4</th>\n",
              "      <td>/content/Data_Small/train/DRUSEN/DRUSEN-107751...</td>\n",
              "      <td>0</td>\n",
              "      <td>DRUSEN</td>\n",
              "    </tr>\n",
              "    <tr>\n",
              "      <th>...</th>\n",
              "      <td>...</td>\n",
              "      <td>...</td>\n",
              "      <td>...</td>\n",
              "    </tr>\n",
              "    <tr>\n",
              "      <th>2023</th>\n",
              "      <td>/content/Data_Small/train/DME/DME-633268-44.jpeg</td>\n",
              "      <td>1</td>\n",
              "      <td>DME</td>\n",
              "    </tr>\n",
              "    <tr>\n",
              "      <th>2024</th>\n",
              "      <td>/content/Data_Small/train/DME/DME-1920087-8.jpeg</td>\n",
              "      <td>1</td>\n",
              "      <td>DME</td>\n",
              "    </tr>\n",
              "    <tr>\n",
              "      <th>2025</th>\n",
              "      <td>/content/Data_Small/train/DME/DME-993691-3.jpeg</td>\n",
              "      <td>1</td>\n",
              "      <td>DME</td>\n",
              "    </tr>\n",
              "    <tr>\n",
              "      <th>2026</th>\n",
              "      <td>/content/Data_Small/train/DME/DME-671384-9.jpeg</td>\n",
              "      <td>1</td>\n",
              "      <td>DME</td>\n",
              "    </tr>\n",
              "    <tr>\n",
              "      <th>2027</th>\n",
              "      <td>/content/Data_Small/train/DME/DME-778975-77.jpeg</td>\n",
              "      <td>1</td>\n",
              "      <td>DME</td>\n",
              "    </tr>\n",
              "  </tbody>\n",
              "</table>\n",
              "<p>2028 rows × 3 columns</p>\n",
              "</div>\n",
              "      <button class=\"colab-df-convert\" onclick=\"convertToInteractive('df-5910a6e2-a40d-4726-ad12-b196f6b01e79')\"\n",
              "              title=\"Convert this dataframe to an interactive table.\"\n",
              "              style=\"display:none;\">\n",
              "        \n",
              "  <svg xmlns=\"http://www.w3.org/2000/svg\" height=\"24px\"viewBox=\"0 0 24 24\"\n",
              "       width=\"24px\">\n",
              "    <path d=\"M0 0h24v24H0V0z\" fill=\"none\"/>\n",
              "    <path d=\"M18.56 5.44l.94 2.06.94-2.06 2.06-.94-2.06-.94-.94-2.06-.94 2.06-2.06.94zm-11 1L8.5 8.5l.94-2.06 2.06-.94-2.06-.94L8.5 2.5l-.94 2.06-2.06.94zm10 10l.94 2.06.94-2.06 2.06-.94-2.06-.94-.94-2.06-.94 2.06-2.06.94z\"/><path d=\"M17.41 7.96l-1.37-1.37c-.4-.4-.92-.59-1.43-.59-.52 0-1.04.2-1.43.59L10.3 9.45l-7.72 7.72c-.78.78-.78 2.05 0 2.83L4 21.41c.39.39.9.59 1.41.59.51 0 1.02-.2 1.41-.59l7.78-7.78 2.81-2.81c.8-.78.8-2.07 0-2.86zM5.41 20L4 18.59l7.72-7.72 1.47 1.35L5.41 20z\"/>\n",
              "  </svg>\n",
              "      </button>\n",
              "      \n",
              "  <style>\n",
              "    .colab-df-container {\n",
              "      display:flex;\n",
              "      flex-wrap:wrap;\n",
              "      gap: 12px;\n",
              "    }\n",
              "\n",
              "    .colab-df-convert {\n",
              "      background-color: #E8F0FE;\n",
              "      border: none;\n",
              "      border-radius: 50%;\n",
              "      cursor: pointer;\n",
              "      display: none;\n",
              "      fill: #1967D2;\n",
              "      height: 32px;\n",
              "      padding: 0 0 0 0;\n",
              "      width: 32px;\n",
              "    }\n",
              "\n",
              "    .colab-df-convert:hover {\n",
              "      background-color: #E2EBFA;\n",
              "      box-shadow: 0px 1px 2px rgba(60, 64, 67, 0.3), 0px 1px 3px 1px rgba(60, 64, 67, 0.15);\n",
              "      fill: #174EA6;\n",
              "    }\n",
              "\n",
              "    [theme=dark] .colab-df-convert {\n",
              "      background-color: #3B4455;\n",
              "      fill: #D2E3FC;\n",
              "    }\n",
              "\n",
              "    [theme=dark] .colab-df-convert:hover {\n",
              "      background-color: #434B5C;\n",
              "      box-shadow: 0px 1px 3px 1px rgba(0, 0, 0, 0.15);\n",
              "      filter: drop-shadow(0px 1px 2px rgba(0, 0, 0, 0.3));\n",
              "      fill: #FFFFFF;\n",
              "    }\n",
              "  </style>\n",
              "\n",
              "      <script>\n",
              "        const buttonEl =\n",
              "          document.querySelector('#df-5910a6e2-a40d-4726-ad12-b196f6b01e79 button.colab-df-convert');\n",
              "        buttonEl.style.display =\n",
              "          google.colab.kernel.accessAllowed ? 'block' : 'none';\n",
              "\n",
              "        async function convertToInteractive(key) {\n",
              "          const element = document.querySelector('#df-5910a6e2-a40d-4726-ad12-b196f6b01e79');\n",
              "          const dataTable =\n",
              "            await google.colab.kernel.invokeFunction('convertToInteractive',\n",
              "                                                     [key], {});\n",
              "          if (!dataTable) return;\n",
              "\n",
              "          const docLinkHtml = 'Like what you see? Visit the ' +\n",
              "            '<a target=\"_blank\" href=https://colab.research.google.com/notebooks/data_table.ipynb>data table notebook</a>'\n",
              "            + ' to learn more about interactive tables.';\n",
              "          element.innerHTML = '';\n",
              "          dataTable['output_type'] = 'display_data';\n",
              "          await google.colab.output.renderOutput(dataTable, element);\n",
              "          const docLink = document.createElement('div');\n",
              "          docLink.innerHTML = docLinkHtml;\n",
              "          element.appendChild(docLink);\n",
              "        }\n",
              "      </script>\n",
              "    </div>\n",
              "  </div>\n",
              "  "
            ]
          },
          "metadata": {},
          "execution_count": 11
        }
      ]
    },
    {
      "cell_type": "code",
      "source": [
        "train_generator = DataGen_seq(train_df,\n",
        "                              x_col={'File':'File'},\n",
        "                              y_col={'Label':'Label'},\n",
        "                              batch_size=batch_size,)\n",
        "valid_generator = DataGen_seq(val_df,\n",
        "                              x_col={'File':'File'},\n",
        "                              y_col={'Label':'Label'},\n",
        "                              batch_size=batch_size,\n",
        "                              aug=False)\n",
        "test_generator = DataGen_seq(test_df,\n",
        "                             x_col={'File':'File'},\n",
        "                             y_col={'Label':'Label'},\n",
        "                             batch_size=len(test_df),\n",
        "                             aug=False)"
      ],
      "metadata": {
        "id": "GUhz9NABP08X"
      },
      "execution_count": 62,
      "outputs": []
    },
    {
      "cell_type": "markdown",
      "source": [
        "#### Method 2"
      ],
      "metadata": {
        "id": "TwifHxfPZ2vP"
      }
    },
    {
      "cell_type": "code",
      "source": [
        "from sklearn.utils import shuffle\n",
        "import random"
      ],
      "metadata": {
        "id": "5uq4M4cva1Ma"
      },
      "execution_count": null,
      "outputs": []
    },
    {
      "cell_type": "code",
      "source": [
        "# Rotate image function\n",
        "def rotate_img(img, angle):\n",
        "  img_center = tuple(np.array(img.shape[1::-1])/2)\n",
        "  rotate_matrix = cv2.getRotationMatrix2D(img_center, angle, 1.0)\n",
        "  result = cv2.warpAffine(img, rotate_matrix, img.shape[1::-1], flags=cv2.INTER_LINEAR)\n",
        "  return result"
      ],
      "metadata": {
        "id": "-n0MKuCWexUO"
      },
      "execution_count": null,
      "outputs": []
    },
    {
      "cell_type": "code",
      "source": [
        "def DataGen(samples, batch_size=32, shuffle_data=True, height=img_height, width=img_width):\n",
        "  num_of_samples = len(samples)\n",
        "  while True:\n",
        "    samples = shuffle(samples)\n",
        "    \n",
        "    for batch_offset in range(0, num_of_samples, batch_size):\n",
        "      # Load samples into the #-sized batch\n",
        "      batch_samples = samples[batch_offset:batch_offset + batch_size]\n",
        "\n",
        "      x_batch = []\n",
        "      y_batch = []\n",
        "      for batch_sample in batch_samples:\n",
        "        # Load image and label\n",
        "        name = batch_sample[0]\n",
        "        label = batch_sample[1]\n",
        "        img = cv2.imread(os.path.join(data_dir, name))\n",
        "\n",
        "        # Preprocessing\n",
        "        # Resize\n",
        "        img = cv2.resize(img,(height, width))\n",
        "        # Rotation\n",
        "        # img = cv2.rotate_img(img, random.randint(-20, 20))\n",
        "\n",
        "        # After preprocessing, add to batch arrays\n",
        "        x_batch.append(img)\n",
        "        y_batch.append(label)\n",
        "      x_batch = np.array(x_batch)\n",
        "      y_batch = np.array(y_batch)\n",
        "\n",
        "      yield x_batch, y_batch"
      ],
      "metadata": {
        "id": "hmkxC0OjZ15L"
      },
      "execution_count": null,
      "outputs": []
    },
    {
      "cell_type": "code",
      "source": [
        "# Function: Load samples from CSV\n",
        "def LoadSamp(csv_file):\n",
        "  data = pd.read_csv(os.path.join('',csv_file))\n",
        "  data = data[['File', 'Label', 'ClassName']]\n",
        "  filenames = list(data.iloc[:,0])\n",
        "  labels = list(data.iloc[:,1])\n",
        "\n",
        "  samples=[]\n",
        "  for name,lab in zip(filenames,labels):\n",
        "    samples.append([name,lab])\n",
        "  return samples"
      ],
      "metadata": {
        "id": "LgrPMEO5gMzy"
      },
      "execution_count": null,
      "outputs": []
    },
    {
      "cell_type": "code",
      "source": [
        "# Load samples from CSVs for train and test\n",
        "train_csv_dir = csv_dir + '/train.csv'\n",
        "test_csv_dir = csv_dir + '/test.csv'\n",
        "train_samples = LoadSamp(train_csv_dir)\n",
        "test_samples = LoadSamp(test_csv_dir)\n",
        "\n",
        "print(train_samples[0:5])"
      ],
      "metadata": {
        "colab": {
          "base_uri": "https://localhost:8080/"
        },
        "id": "4S2ObuJfhIsA",
        "outputId": "da003aa1-2ad2-45f8-e043-f5561cbe1a50"
      },
      "execution_count": null,
      "outputs": [
        {
          "output_type": "stream",
          "name": "stdout",
          "text": [
            "[['/content/Data_Small/train/DRUSEN/DRUSEN-464044-9.jpeg', 0], ['/content/Data_Small/train/DRUSEN/DRUSEN-1077513-1.jpeg', 0], ['/content/Data_Small/train/DRUSEN/DRUSEN-464044-3.jpeg', 0], ['/content/Data_Small/train/DRUSEN/DRUSEN-552350-8.jpeg', 0], ['/content/Data_Small/train/DRUSEN/DRUSEN-1016042-6.jpeg', 0]]\n"
          ]
        }
      ]
    },
    {
      "cell_type": "code",
      "source": [
        "# Create DataGen object\n",
        "train_generator = DataGen()"
      ],
      "metadata": {
        "id": "gyCtFvL9f_V5"
      },
      "execution_count": null,
      "outputs": []
    },
    {
      "cell_type": "markdown",
      "metadata": {
        "id": "UhNBpB49qIB4"
      },
      "source": [
        "## 2: Data (Not Adapted for A2)"
      ]
    },
    {
      "cell_type": "code",
      "execution_count": 46,
      "metadata": {
        "id": "odOmQQXAVFbN"
      },
      "outputs": [],
      "source": [
        "img_height = 128\n",
        "img_width = 128\n",
        "\n",
        "# # Method 1: image_dataset_from_directory\n",
        "# data_dir_DME = Path('/content/Data_Small/train/')\n",
        "# train_df = tf.keras.utils.image_dataset_from_directory(\n",
        "#     data_dir_DME,\n",
        "#     validation_split=0.2,\n",
        "#     subset=\"training\",\n",
        "#     seed=123,\n",
        "#     image_size=(img_height, img_width),\n",
        "#     batch_size=batch_size\n",
        "# )\n",
        "# val_df = tf.keras.utils.image_dataset_from_directory(\n",
        "#     data_dir_DME,\n",
        "#     validation_split=0.2,\n",
        "#     subset=\"validation\",\n",
        "#     seed=123,\n",
        "#     image_size=(img_height, img_width),\n",
        "#     batch_size=batch_size\n",
        "# )\n",
        "\n",
        "# # Method 2: ImageDataGenerator (MUST IMPLEMENT THIS WITH OWN VERSION)\n",
        "# datagen = ImageDataGenerator(\n",
        "#     rescale = 1./255,\n",
        "#     horizontal_flip = True,\n",
        "#     vertical_flip = True,\n",
        "#     rotation_range = 90,\n",
        "#     validation_split = 0.2,\n",
        "#     fill_mode = 'constant')\n",
        "\n",
        "# train_generator = datagen.flow_from_directory(\n",
        "#     directory = '/content/Data_Small/train/',\n",
        "#     class_mode = class_mode,\n",
        "#     batch_size = batch_size,\n",
        "#     target_size = (img_height, img_width),\n",
        "#     subset = \"training\")\n",
        "\n",
        "# valid_generator = datagen.flow_from_directory(\n",
        "#     directory = '/content/Data_Small/train/',\n",
        "#     class_mode = class_mode,\n",
        "#     batch_size = batch_size,\n",
        "#     target_size = (img_height, img_width),\n",
        "#     subset = \"validation\",\n",
        "#     shuffle = False)"
      ]
    },
    {
      "cell_type": "code",
      "execution_count": null,
      "metadata": {
        "colab": {
          "base_uri": "https://localhost:8080/"
        },
        "id": "-dMnxkzOjgUS",
        "outputId": "92f8ac95-597e-46bc-d2ec-6c940ce812c6"
      },
      "outputs": [
        {
          "name": "stdout",
          "output_type": "stream",
          "text": [
            "{'DME': 0, 'DRUSEN': 1}\n"
          ]
        }
      ],
      "source": [
        "class_names = train_generator.class_indices\n",
        "print(class_names)"
      ]
    },
    {
      "cell_type": "code",
      "execution_count": null,
      "metadata": {
        "colab": {
          "base_uri": "https://localhost:8080/",
          "height": 398
        },
        "id": "lgFzYfI-qRYz",
        "outputId": "2c44a664-d9c1-4db6-993f-951c8cc7fa39"
      },
      "outputs": [
        {
          "data": {
            "image/png": "[encoded data removed]",
            "text/plain": [
              "<Figure size 432x288 with 6 Axes>"
            ]
          },
          "metadata": {
            "needs_background": "light"
          },
          "output_type": "display_data"
        },
        {
          "name": "stdout",
          "output_type": "stream",
          "text": [
            "y Labels:  [[0. 1.]\n",
            " [1. 0.]\n",
            " [1. 0.]\n",
            " [1. 0.]]\n",
            "sample img, max value:  1.0\n",
            "sample img, min value:  0.0\n"
          ]
        }
      ],
      "source": [
        "#For Directory\n",
        "#Preview the augmented data\n",
        "X_preview, y_preview = train_generator.next()\n",
        "\n",
        "for k in range(1,7):\n",
        "    sample_img = X_preview[k,:,:,:]\n",
        "    plt.subplot(2, 3, k)\n",
        "    plt.imshow(sample_img)\n",
        "plt.suptitle('Sample Data Augmentation', fontsize = 16)    \n",
        "plt.show()\n",
        "\n",
        "print('y Labels: ', y_preview[1:5])\n",
        "print('sample img, max value: ',np.max(sample_img))\n",
        "print('sample img, min value: ',np.min(sample_img))"
      ]
    },
    {
      "cell_type": "markdown",
      "metadata": {
        "id": "K8zph6W_qNWt"
      },
      "source": [
        "## 3: Training"
      ]
    },
    {
      "cell_type": "markdown",
      "metadata": {
        "id": "sTykJS9SqcLr"
      },
      "source": [
        "##### Train your model using"
      ]
    },
    {
      "cell_type": "code",
      "execution_count": null,
      "metadata": {
        "id": "DQrY7l3tqaJn"
      },
      "outputs": [],
      "source": [
        "# To prevent dataset bottleneck, keep images in memory and \n",
        "#   preprocess data while executing model during training\n",
        "# AUTOTUNE = tf.data.AUTOTUNE\n",
        "# train_df = train_df.cache().prefetch(buffer_size=AUTOTUNE)\n",
        "# val_df = val_df.cache().prefetch(buffer_size=AUTOTUNE)"
      ]
    },
    {
      "cell_type": "code",
      "execution_count": null,
      "metadata": {
        "id": "NeKy_Qj0xMvI"
      },
      "outputs": [],
      "source": [
        "gdrive_dir = '/content/gdrive/MyDrive/Biomed AI'"
      ]
    },
    {
      "cell_type": "code",
      "execution_count": 13,
      "metadata": {
        "colab": {
          "base_uri": "https://localhost:8080/"
        },
        "id": "g2HpRokhrl19",
        "outputId": "84f64791-6a15-4527-b57b-bfbc435d2075"
      },
      "outputs": [
        {
          "output_type": "stream",
          "name": "stdout",
          "text": [
            "Downloading data from https://storage.googleapis.com/tensorflow/keras-applications/vgg16/vgg16_weights_tf_dim_ordering_tf_kernels_notop.h5\n",
            "58889256/58889256 [==============================] - 3s 0us/step\n"
          ]
        }
      ],
      "source": [
        "# Build model\n",
        "image_input = Input(shape = (img_width, img_height, img_depth))\n",
        "base_model = applications.vgg16.VGG16(input_tensor = image_input,\n",
        "                                      include_top = False,\n",
        "                                      weights = 'imagenet')\n",
        "base_output = base_model.layers[-1].output\n",
        "\n",
        "flat1 = Flatten()(base_output)\n",
        "fc1 = Dense(8192, activation = 'relu')(flat1)\n",
        "dropfc1 = Dropout(0.5)(fc1)\n",
        "fc2 = Dense(4096, activation = 'relu')(dropfc1)\n",
        "dropfc2 = Dropout(0.5)(fc2)\n",
        "\n",
        "output = Dense(num_classes, activation = act_type)(dropfc2)\n",
        "\n",
        "for layer in base_model.layers[:-9]:\n",
        "  layer.trainable = False\n",
        "\n",
        "model = Model(image_input, output)"
      ]
    },
    {
      "cell_type": "code",
      "execution_count": 14,
      "metadata": {
        "id": "Y2bLsE0kweed"
      },
      "outputs": [],
      "source": [
        "# Compile the model\n",
        "opt = Adam(learning_rate = 0.00001)\n",
        "model.compile(loss = loss_fun, optimizer = opt, metrics = ['accuracy'])"
      ]
    },
    {
      "cell_type": "code",
      "execution_count": 15,
      "metadata": {
        "colab": {
          "base_uri": "https://localhost:8080/"
        },
        "id": "7tEd3HSTwwuS",
        "outputId": "870aa016-2b4c-413d-de14-211d2131e9b4"
      },
      "outputs": [
        {
          "output_type": "stream",
          "name": "stderr",
          "text": [
            "WARNING:tensorflow:`period` argument is deprecated. Please use `save_freq` to specify the frequency in number of batches seen.\n"
          ]
        },
        {
          "output_type": "stream",
          "name": "stdout",
          "text": [
            "Model: \"model\"\n",
            "_________________________________________________________________\n",
            " Layer (type)                Output Shape              Param #   \n",
            "=================================================================\n",
            " input_1 (InputLayer)        [(None, 128, 128, 3)]     0         \n",
            "                                                                 \n",
            " block1_conv1 (Conv2D)       (None, 128, 128, 64)      1792      \n",
            "                                                                 \n",
            " block1_conv2 (Conv2D)       (None, 128, 128, 64)      36928     \n",
            "                                                                 \n",
            " block1_pool (MaxPooling2D)  (None, 64, 64, 64)        0         \n",
            "                                                                 \n",
            " block2_conv1 (Conv2D)       (None, 64, 64, 128)       73856     \n",
            "                                                                 \n",
            " block2_conv2 (Conv2D)       (None, 64, 64, 128)       147584    \n",
            "                                                                 \n",
            " block2_pool (MaxPooling2D)  (None, 32, 32, 128)       0         \n",
            "                                                                 \n",
            " block3_conv1 (Conv2D)       (None, 32, 32, 256)       295168    \n",
            "                                                                 \n",
            " block3_conv2 (Conv2D)       (None, 32, 32, 256)       590080    \n",
            "                                                                 \n",
            " block3_conv3 (Conv2D)       (None, 32, 32, 256)       590080    \n",
            "                                                                 \n",
            " block3_pool (MaxPooling2D)  (None, 16, 16, 256)       0         \n",
            "                                                                 \n",
            " block4_conv1 (Conv2D)       (None, 16, 16, 512)       1180160   \n",
            "                                                                 \n",
            " block4_conv2 (Conv2D)       (None, 16, 16, 512)       2359808   \n",
            "                                                                 \n",
            " block4_conv3 (Conv2D)       (None, 16, 16, 512)       2359808   \n",
            "                                                                 \n",
            " block4_pool (MaxPooling2D)  (None, 8, 8, 512)         0         \n",
            "                                                                 \n",
            " block5_conv1 (Conv2D)       (None, 8, 8, 512)         2359808   \n",
            "                                                                 \n",
            " block5_conv2 (Conv2D)       (None, 8, 8, 512)         2359808   \n",
            "                                                                 \n",
            " block5_conv3 (Conv2D)       (None, 8, 8, 512)         2359808   \n",
            "                                                                 \n",
            " block5_pool (MaxPooling2D)  (None, 4, 4, 512)         0         \n",
            "                                                                 \n",
            " flatten (Flatten)           (None, 8192)              0         \n",
            "                                                                 \n",
            " dense (Dense)               (None, 8192)              67117056  \n",
            "                                                                 \n",
            " dropout (Dropout)           (None, 8192)              0         \n",
            "                                                                 \n",
            " dense_1 (Dense)             (None, 4096)              33558528  \n",
            "                                                                 \n",
            " dropout_1 (Dropout)         (None, 4096)              0         \n",
            "                                                                 \n",
            " dense_2 (Dense)             (None, 2)                 8194      \n",
            "                                                                 \n",
            "=================================================================\n",
            "Total params: 115,398,466\n",
            "Trainable params: 113,662,978\n",
            "Non-trainable params: 1,735,488\n",
            "_________________________________________________________________\n"
          ]
        }
      ],
      "source": [
        "from dummy_threading import current_thread\n",
        "# Folder setup\n",
        "init_time = datetime.now()\n",
        "current_time = init_time.strftime('%Y%m%d_%H%M%S')\n",
        "name_dir = 'trained_models_' + current_time + '_fold_num' + str(fold_num)\n",
        "os.mkdir(name_dir)\n",
        "\n",
        "# Callbacks1: ModelCheckpointer\n",
        "model_file_format = name_dir + '/model_' + str(fold_num) + '_model.{epoch:04d}.hdf5'\n",
        "check = ModelCheckpoint(model_file_format, period = freq, verbose = 1)\n",
        "\n",
        "# Callbacks2: TensorBoard\n",
        "tensor_check = './logs/' + current_time + '_train_testsplit' + str(fold_num)\n",
        "tensor_board = TensorBoard(tensor_check)\n",
        "\n",
        "# Callbacks3: EarlyStopping\n",
        "early_stop = EarlyStopping(monitor='val_loss', min_delta=0, patience=0, verbose=0, mode='auto')\n",
        "# Plot model\n",
        "figure_name = name_dir + '/model_output.png'\n",
        "plot_model(model, figure_name, show_shapes = True)\n",
        "\n",
        "model.summary()"
      ]
    },
    {
      "cell_type": "markdown",
      "metadata": {
        "id": "7o3L_dLyVVwM"
      },
      "source": []
    },
    {
      "cell_type": "code",
      "execution_count": 28,
      "metadata": {
        "colab": {
          "base_uri": "https://localhost:8080/"
        },
        "id": "XD1dT_T2RgCT",
        "outputId": "482fcb51-e379-4272-fda6-0ad9bc279701"
      },
      "outputs": [
        {
          "output_type": "stream",
          "name": "stderr",
          "text": [
            "<ipython-input-28-0fd0bedd140a>:1: UserWarning: `Model.fit_generator` is deprecated and will be removed in a future version. Please use `Model.fit`, which supports generators.\n",
            "  history = model.fit_generator(train_generator,\n"
          ]
        },
        {
          "output_type": "stream",
          "name": "stdout",
          "text": [
            "Epoch 1/10\n",
            "50/50 [==============================] - 26s 523ms/step - loss: 1.2450 - accuracy: 0.4525 - val_loss: 0.7743 - val_accuracy: 0.4250\n",
            "Epoch 2/10\n",
            "50/50 [==============================] - 26s 513ms/step - loss: 1.0310 - accuracy: 0.5170 - val_loss: 0.6097 - val_accuracy: 0.6458\n",
            "Epoch 3/10\n",
            "50/50 [==============================] - 27s 541ms/step - loss: 0.6632 - accuracy: 0.7490 - val_loss: 0.5142 - val_accuracy: 0.7500\n",
            "Epoch 4/10\n",
            "50/50 [==============================] - 27s 546ms/step - loss: 0.3648 - accuracy: 0.8725 - val_loss: 0.2658 - val_accuracy: 0.8792\n",
            "Epoch 5/10\n",
            "50/50 [==============================] - 32s 637ms/step - loss: 0.2680 - accuracy: 0.9155 - val_loss: 0.2175 - val_accuracy: 0.9000\n",
            "Epoch 6/10\n",
            "50/50 [==============================] - 25s 509ms/step - loss: 0.2390 - accuracy: 0.9225 - val_loss: 0.1701 - val_accuracy: 0.9229\n",
            "Epoch 7/10\n",
            "50/50 [==============================] - 26s 518ms/step - loss: 0.1992 - accuracy: 0.9370 - val_loss: 0.2473 - val_accuracy: 0.8979\n",
            "Epoch 8/10\n",
            "50/50 [==============================] - 26s 522ms/step - loss: 0.2059 - accuracy: 0.9370 - val_loss: 0.1508 - val_accuracy: 0.9417\n",
            "Epoch 9/10\n",
            "50/50 [==============================] - 35s 702ms/step - loss: 0.1526 - accuracy: 0.9520 - val_loss: 0.1781 - val_accuracy: 0.9333\n",
            "Epoch 10/10\n",
            "50/50 [==============================] - 29s 579ms/step - loss: 0.1225 - accuracy: 0.9630 - val_loss: 0.1681 - val_accuracy: 0.9438\n"
          ]
        }
      ],
      "source": [
        "history = model.fit_generator(train_generator,\n",
        "                              epochs = epochs,\n",
        "                              steps_per_epoch = train_generator.length // batch_size,\n",
        "                              validation_data = valid_generator,\n",
        "                              validation_steps = valid_generator.length // batch_size,\n",
        "                              callbacks = [check, tensor_board],\n",
        "                              class_weight = class_weights)\n",
        "\n",
        "early_stop_name = name_dir + '/fold_num_' + str(fold_num) + 'early_stop_model.hdf5'\n",
        "model.save_weights(early_stop_name)\n",
        "hist_df = pd.DataFrame(history.history)"
      ]
    },
    {
      "cell_type": "code",
      "execution_count": null,
      "metadata": {
        "colab": {
          "base_uri": "https://localhost:8080/"
        },
        "id": "OGxdz0KMSEIe",
        "outputId": "ee7f8fc0-dadd-44dd-ccbb-1c2f4477d472"
      },
      "outputs": [
        {
          "output_type": "stream",
          "name": "stderr",
          "text": [
            "WARNING:absl:Found untraced functions such as _jit_compiled_convolution_op, _jit_compiled_convolution_op, _jit_compiled_convolution_op, _jit_compiled_convolution_op, _jit_compiled_convolution_op while saving (showing 5 of 13). These functions will not be directly callable after loading.\n"
          ]
        }
      ],
      "source": [
        "model.save('/content/gdrive/MyDrive/Biomed AI/10epoch_model')"
      ]
    },
    {
      "cell_type": "code",
      "execution_count": 18,
      "metadata": {
        "id": "TR-qM5ZJOPbJ"
      },
      "outputs": [],
      "source": [
        "# Save history\n",
        "# np.save('10epoch_hist.npy', history.history)\n",
        "# history.history\n",
        "hist_df = pd.DataFrame(history.history)\n",
        "hist_df.to_csv('/content/gdrive/MyDrive/Biomed AI/10epoch_hist.csv')"
      ]
    },
    {
      "cell_type": "code",
      "execution_count": null,
      "metadata": {
        "colab": {
          "base_uri": "https://localhost:8080/"
        },
        "id": "QtEB1AbBOxrF",
        "outputId": "33497c7e-2eea-4460-d359-8b2ddaa25c2c"
      },
      "outputs": [
        {
          "name": "stdout",
          "output_type": "stream",
          "text": [
            "Model: \"model_2\"\n",
            "_________________________________________________________________\n",
            " Layer (type)                Output Shape              Param #   \n",
            "=================================================================\n",
            " input_3 (InputLayer)        [(None, 128, 128, 3)]     0         \n",
            "                                                                 \n",
            " block1_conv1 (Conv2D)       (None, 128, 128, 64)      1792      \n",
            "                                                                 \n",
            " block1_conv2 (Conv2D)       (None, 128, 128, 64)      36928     \n",
            "                                                                 \n",
            " block1_pool (MaxPooling2D)  (None, 64, 64, 64)        0         \n",
            "                                                                 \n",
            " block2_conv1 (Conv2D)       (None, 64, 64, 128)       73856     \n",
            "                                                                 \n",
            " block2_conv2 (Conv2D)       (None, 64, 64, 128)       147584    \n",
            "                                                                 \n",
            " block2_pool (MaxPooling2D)  (None, 32, 32, 128)       0         \n",
            "                                                                 \n",
            " block3_conv1 (Conv2D)       (None, 32, 32, 256)       295168    \n",
            "                                                                 \n",
            " block3_conv2 (Conv2D)       (None, 32, 32, 256)       590080    \n",
            "                                                                 \n",
            " block3_conv3 (Conv2D)       (None, 32, 32, 256)       590080    \n",
            "                                                                 \n",
            " block3_pool (MaxPooling2D)  (None, 16, 16, 256)       0         \n",
            "                                                                 \n",
            " block4_conv1 (Conv2D)       (None, 16, 16, 512)       1180160   \n",
            "                                                                 \n",
            " block4_conv2 (Conv2D)       (None, 16, 16, 512)       2359808   \n",
            "                                                                 \n",
            " block4_conv3 (Conv2D)       (None, 16, 16, 512)       2359808   \n",
            "                                                                 \n",
            " block4_pool (MaxPooling2D)  (None, 8, 8, 512)         0         \n",
            "                                                                 \n",
            " block5_conv1 (Conv2D)       (None, 8, 8, 512)         2359808   \n",
            "                                                                 \n",
            " block5_conv2 (Conv2D)       (None, 8, 8, 512)         2359808   \n",
            "                                                                 \n",
            " block5_conv3 (Conv2D)       (None, 8, 8, 512)         2359808   \n",
            "                                                                 \n",
            " block5_pool (MaxPooling2D)  (None, 4, 4, 512)         0         \n",
            "                                                                 \n",
            " flatten_2 (Flatten)         (None, 8192)              0         \n",
            "                                                                 \n",
            " dense_6 (Dense)             (None, 8192)              67117056  \n",
            "                                                                 \n",
            " dropout_4 (Dropout)         (None, 8192)              0         \n",
            "                                                                 \n",
            " dense_7 (Dense)             (None, 4096)              33558528  \n",
            "                                                                 \n",
            " dropout_5 (Dropout)         (None, 4096)              0         \n",
            "                                                                 \n",
            " dense_8 (Dense)             (None, 2)                 8194      \n",
            "                                                                 \n",
            "=================================================================\n",
            "Total params: 115,398,466\n",
            "Trainable params: 113,662,978\n",
            "Non-trainable params: 1,735,488\n",
            "_________________________________________________________________\n"
          ]
        }
      ],
      "source": [
        "# # Load Model\n",
        "# model = tf.keras.models.load_model('/content/gdrive/MyDrive/Biomed AI/10epoch_model')\n",
        "# model.summary()"
      ]
    },
    {
      "cell_type": "code",
      "execution_count": null,
      "metadata": {
        "colab": {
          "base_uri": "https://localhost:8080/",
          "height": 363
        },
        "id": "V3l0Io3vPa3M",
        "outputId": "80025409-cea2-44bd-fec3-790df5f388e3"
      },
      "outputs": [
        {
          "data": {
            "text/html": [
              "\n",
              "  <div id=\"df-0a3ca74e-6dec-4386-ae30-c8fbef3ac40a\">\n",
              "    <div class=\"colab-df-container\">\n",
              "      <div>\n",
              "<style scoped>\n",
              "    .dataframe tbody tr th:only-of-type {\n",
              "        vertical-align: middle;\n",
              "    }\n",
              "\n",
              "    .dataframe tbody tr th {\n",
              "        vertical-align: top;\n",
              "    }\n",
              "\n",
              "    .dataframe thead th {\n",
              "        text-align: right;\n",
              "    }\n",
              "</style>\n",
              "<table border=\"1\" class=\"dataframe\">\n",
              "  <thead>\n",
              "    <tr style=\"text-align: right;\">\n",
              "      <th></th>\n",
              "      <th>Unnamed: 0</th>\n",
              "      <th>loss</th>\n",
              "      <th>accuracy</th>\n",
              "      <th>val_loss</th>\n",
              "      <th>val_accuracy</th>\n",
              "    </tr>\n",
              "  </thead>\n",
              "  <tbody>\n",
              "    <tr>\n",
              "      <th>0</th>\n",
              "      <td>0</td>\n",
              "      <td>1.045777</td>\n",
              "      <td>0.583501</td>\n",
              "      <td>0.857778</td>\n",
              "      <td>0.629167</td>\n",
              "    </tr>\n",
              "    <tr>\n",
              "      <th>1</th>\n",
              "      <td>1</td>\n",
              "      <td>0.918416</td>\n",
              "      <td>0.620221</td>\n",
              "      <td>0.722819</td>\n",
              "      <td>0.633333</td>\n",
              "    </tr>\n",
              "    <tr>\n",
              "      <th>2</th>\n",
              "      <td>2</td>\n",
              "      <td>0.623900</td>\n",
              "      <td>0.761066</td>\n",
              "      <td>0.376969</td>\n",
              "      <td>0.825000</td>\n",
              "    </tr>\n",
              "    <tr>\n",
              "      <th>3</th>\n",
              "      <td>3</td>\n",
              "      <td>0.418422</td>\n",
              "      <td>0.866197</td>\n",
              "      <td>0.346826</td>\n",
              "      <td>0.870833</td>\n",
              "    </tr>\n",
              "    <tr>\n",
              "      <th>4</th>\n",
              "      <td>4</td>\n",
              "      <td>0.324159</td>\n",
              "      <td>0.894869</td>\n",
              "      <td>0.212213</td>\n",
              "      <td>0.908333</td>\n",
              "    </tr>\n",
              "    <tr>\n",
              "      <th>5</th>\n",
              "      <td>5</td>\n",
              "      <td>0.295158</td>\n",
              "      <td>0.906439</td>\n",
              "      <td>0.266612</td>\n",
              "      <td>0.897917</td>\n",
              "    </tr>\n",
              "    <tr>\n",
              "      <th>6</th>\n",
              "      <td>6</td>\n",
              "      <td>0.272669</td>\n",
              "      <td>0.915493</td>\n",
              "      <td>0.201055</td>\n",
              "      <td>0.914583</td>\n",
              "    </tr>\n",
              "    <tr>\n",
              "      <th>7</th>\n",
              "      <td>7</td>\n",
              "      <td>0.240861</td>\n",
              "      <td>0.926056</td>\n",
              "      <td>0.255602</td>\n",
              "      <td>0.908333</td>\n",
              "    </tr>\n",
              "    <tr>\n",
              "      <th>8</th>\n",
              "      <td>8</td>\n",
              "      <td>0.231335</td>\n",
              "      <td>0.926056</td>\n",
              "      <td>0.183989</td>\n",
              "      <td>0.920833</td>\n",
              "    </tr>\n",
              "    <tr>\n",
              "      <th>9</th>\n",
              "      <td>9</td>\n",
              "      <td>0.217301</td>\n",
              "      <td>0.930583</td>\n",
              "      <td>0.246455</td>\n",
              "      <td>0.889583</td>\n",
              "    </tr>\n",
              "  </tbody>\n",
              "</table>\n",
              "</div>\n",
              "      <button class=\"colab-df-convert\" onclick=\"convertToInteractive('df-0a3ca74e-6dec-4386-ae30-c8fbef3ac40a')\"\n",
              "              title=\"Convert this dataframe to an interactive table.\"\n",
              "              style=\"display:none;\">\n",
              "        \n",
              "  <svg xmlns=\"http://www.w3.org/2000/svg\" height=\"24px\"viewBox=\"0 0 24 24\"\n",
              "       width=\"24px\">\n",
              "    <path d=\"M0 0h24v24H0V0z\" fill=\"none\"/>\n",
              "    <path d=\"M18.56 5.44l.94 2.06.94-2.06 2.06-.94-2.06-.94-.94-2.06-.94 2.06-2.06.94zm-11 1L8.5 8.5l.94-2.06 2.06-.94-2.06-.94L8.5 2.5l-.94 2.06-2.06.94zm10 10l.94 2.06.94-2.06 2.06-.94-2.06-.94-.94-2.06-.94 2.06-2.06.94z\"/><path d=\"M17.41 7.96l-1.37-1.37c-.4-.4-.92-.59-1.43-.59-.52 0-1.04.2-1.43.59L10.3 9.45l-7.72 7.72c-.78.78-.78 2.05 0 2.83L4 21.41c.39.39.9.59 1.41.59.51 0 1.02-.2 1.41-.59l7.78-7.78 2.81-2.81c.8-.78.8-2.07 0-2.86zM5.41 20L4 18.59l7.72-7.72 1.47 1.35L5.41 20z\"/>\n",
              "  </svg>\n",
              "      </button>\n",
              "      \n",
              "  <style>\n",
              "    .colab-df-container {\n",
              "      display:flex;\n",
              "      flex-wrap:wrap;\n",
              "      gap: 12px;\n",
              "    }\n",
              "\n",
              "    .colab-df-convert {\n",
              "      background-color: #E8F0FE;\n",
              "      border: none;\n",
              "      border-radius: 50%;\n",
              "      cursor: pointer;\n",
              "      display: none;\n",
              "      fill: #1967D2;\n",
              "      height: 32px;\n",
              "      padding: 0 0 0 0;\n",
              "      width: 32px;\n",
              "    }\n",
              "\n",
              "    .colab-df-convert:hover {\n",
              "      background-color: #E2EBFA;\n",
              "      box-shadow: 0px 1px 2px rgba(60, 64, 67, 0.3), 0px 1px 3px 1px rgba(60, 64, 67, 0.15);\n",
              "      fill: #174EA6;\n",
              "    }\n",
              "\n",
              "    [theme=dark] .colab-df-convert {\n",
              "      background-color: #3B4455;\n",
              "      fill: #D2E3FC;\n",
              "    }\n",
              "\n",
              "    [theme=dark] .colab-df-convert:hover {\n",
              "      background-color: #434B5C;\n",
              "      box-shadow: 0px 1px 3px 1px rgba(0, 0, 0, 0.15);\n",
              "      filter: drop-shadow(0px 1px 2px rgba(0, 0, 0, 0.3));\n",
              "      fill: #FFFFFF;\n",
              "    }\n",
              "  </style>\n",
              "\n",
              "      <script>\n",
              "        const buttonEl =\n",
              "          document.querySelector('#df-0a3ca74e-6dec-4386-ae30-c8fbef3ac40a button.colab-df-convert');\n",
              "        buttonEl.style.display =\n",
              "          google.colab.kernel.accessAllowed ? 'block' : 'none';\n",
              "\n",
              "        async function convertToInteractive(key) {\n",
              "          const element = document.querySelector('#df-0a3ca74e-6dec-4386-ae30-c8fbef3ac40a');\n",
              "          const dataTable =\n",
              "            await google.colab.kernel.invokeFunction('convertToInteractive',\n",
              "                                                     [key], {});\n",
              "          if (!dataTable) return;\n",
              "\n",
              "          const docLinkHtml = 'Like what you see? Visit the ' +\n",
              "            '<a target=\"_blank\" href=https://colab.research.google.com/notebooks/data_table.ipynb>data table notebook</a>'\n",
              "            + ' to learn more about interactive tables.';\n",
              "          element.innerHTML = '';\n",
              "          dataTable['output_type'] = 'display_data';\n",
              "          await google.colab.output.renderOutput(dataTable, element);\n",
              "          const docLink = document.createElement('div');\n",
              "          docLink.innerHTML = docLinkHtml;\n",
              "          element.appendChild(docLink);\n",
              "        }\n",
              "      </script>\n",
              "    </div>\n",
              "  </div>\n",
              "  "
            ],
            "text/plain": [
              "   Unnamed: 0      loss  accuracy  val_loss  val_accuracy\n",
              "0           0  1.045777  0.583501  0.857778      0.629167\n",
              "1           1  0.918416  0.620221  0.722819      0.633333\n",
              "2           2  0.623900  0.761066  0.376969      0.825000\n",
              "3           3  0.418422  0.866197  0.346826      0.870833\n",
              "4           4  0.324159  0.894869  0.212213      0.908333\n",
              "5           5  0.295158  0.906439  0.266612      0.897917\n",
              "6           6  0.272669  0.915493  0.201055      0.914583\n",
              "7           7  0.240861  0.926056  0.255602      0.908333\n",
              "8           8  0.231335  0.926056  0.183989      0.920833\n",
              "9           9  0.217301  0.930583  0.246455      0.889583"
            ]
          },
          "execution_count": 10,
          "metadata": {},
          "output_type": "execute_result"
        }
      ],
      "source": [
        "# # Plot training and validation loss\n",
        "# stats_df = pd.read_csv('/content/gdrive/MyDrive/Biomed AI/10epoch_hist.csv')\n",
        "# stats_df"
      ]
    },
    {
      "cell_type": "code",
      "execution_count": 19,
      "metadata": {
        "colab": {
          "base_uri": "https://localhost:8080/",
          "height": 545
        },
        "id": "Q0lUFV_pQLKF",
        "outputId": "e91dfac8-011f-4447-e8c6-e46d60a141c3"
      },
      "outputs": [
        {
          "output_type": "display_data",
          "data": {
            "text/plain": [
              "<Figure size 432x288 with 1 Axes>"
            ],
            "image/png": "[encoded data removed]"
          },
          "metadata": {
            "needs_background": "light"
          }
        },
        {
          "output_type": "display_data",
          "data": {
            "text/plain": [
              "<Figure size 432x288 with 1 Axes>"
            ],
            "image/png": "[encoded data removed]"
          },
          "metadata": {
            "needs_background": "light"
          }
        }
      ],
      "source": [
        "# Assign each loss/accuracy\n",
        "acc = history.history['accuracy']\n",
        "val_acc = history.history['val_accuracy']\n",
        "loss = history.history['loss']\n",
        "val_loss = history.history['val_loss']\n",
        "\n",
        "epochs = range(1, len(acc) + 1)\n",
        "\n",
        "plt.plot(epochs, acc, 'b', label='Training acc')\n",
        "plt.plot(epochs, val_acc, 'r', label='Validation acc')\n",
        "plt.title('Training and validation accuracy')\n",
        "plt.legend()\n",
        "\n",
        "plt.figure()\n",
        "\n",
        "plt.plot(epochs, loss, 'b', label='Training loss')\n",
        "plt.plot(epochs, val_loss, 'r', label='Validation loss')\n",
        "plt.title('Training and validation loss')\n",
        "plt.legend()\n",
        "\n",
        "plt.show()"
      ]
    },
    {
      "cell_type": "markdown",
      "metadata": {
        "id": "C6EGxJ-uQUlq"
      },
      "source": [
        "## Confusion Matrix"
      ]
    },
    {
      "cell_type": "markdown",
      "source": [
        "### Old Method for A1"
      ],
      "metadata": {
        "id": "k-_EA1jb6qOK"
      }
    },
    {
      "cell_type": "code",
      "execution_count": 20,
      "metadata": {
        "id": "Bh-iuciqQYk4"
      },
      "outputs": [],
      "source": [
        "import matplotlib.pyplot as plt\n",
        "from sklearn.metrics import confusion_matrix\n",
        "\n",
        "def plot_confusion_matrix(y_true, y_pred, classes,\n",
        "                          normalize=False,\n",
        "                          title=None,\n",
        "                          cmap=plt.cm.Blues):\n",
        "    \"\"\"\n",
        "    This function prints and plots the confusion matrix.\n",
        "    Normalization can be applied by setting `normalize=True`.\n",
        "    \"\"\"\n",
        "    if not title:\n",
        "        if normalize:\n",
        "            title = 'Normalized confusion matrix'\n",
        "        else:\n",
        "            title = 'Confusion matrix, without normalization'\n",
        "\n",
        "    # Compute confusion matrix\n",
        "    cm = confusion_matrix(y_true, y_pred)\n",
        "    # Only use the labels that appear in the data\n",
        "    classes = classes#[unique_labels(y_true, y_pred)]\n",
        "    if normalize:\n",
        "        cm = cm.astype('float') / cm.sum(axis=1)[:, np.newaxis]\n",
        "        print(\"Normalized confusion matrix\")\n",
        "    else:\n",
        "        print('Confusion matrix, without normalization')\n",
        "\n",
        "    print(cm)\n",
        "\n",
        "    fig, ax = plt.subplots()\n",
        "    im = ax.imshow(cm, interpolation='nearest', cmap=cmap)\n",
        "    ax.figure.colorbar(im, ax=ax)\n",
        "    # We want to show all ticks...\n",
        "    ax.set(xticks=np.arange(cm.shape[1]),\n",
        "           yticks=np.arange(cm.shape[0]),\n",
        "           # ... and label them with the respective list entries\n",
        "           xticklabels=classes, yticklabels=classes,\n",
        "           title=title,\n",
        "           ylabel='True label',\n",
        "           xlabel='Predicted label')\n",
        "\n",
        "    # Rotate the tick labels and set their alignment.\n",
        "    plt.setp(ax.get_xticklabels(), rotation=45, ha=\"right\",\n",
        "             rotation_mode=\"anchor\")\n",
        "\n",
        "    # Loop over data dimensions and create text annotations.\n",
        "    fmt = '.2f' if normalize else 'd'\n",
        "    thresh = cm.max() / 2.\n",
        "    for i in range(cm.shape[0]):\n",
        "        for j in range(cm.shape[1]):\n",
        "            ax.text(j, i, format(cm[i, j], fmt),\n",
        "                    ha=\"center\", va=\"center\",\n",
        "                    color=\"white\" if cm[i, j] > thresh else \"black\")\n",
        "    fig.tight_layout()\n",
        "    return ax"
      ]
    },
    {
      "cell_type": "code",
      "source": [
        "test_datagen = ImageDataGenerator(\n",
        "    rescale=1./255,\n",
        "    horizontal_flip = True,\n",
        "    vertical_flip = True,\n",
        "    zoom_range = 0.2,\n",
        "    rotation_range = 90,\n",
        "    fill_mode = 'constant')\n",
        "\n",
        "test_generator_orig = test_datagen.flow_from_directory(\n",
        "                              directory = '/content/Data_Small/test',\n",
        "                              target_size = (img_width, img_height),\n",
        "                              class_mode = class_mode,\n",
        "                              batch_size = batch_size)\n",
        "\n",
        "test_generator_orig.classes\n",
        "# test_generator.__getOutput\n",
        "test_generator_classes = np.asarray(test_df['Label'], dtype='int32')"
      ],
      "metadata": {
        "id": "32y1A58BlTMa",
        "outputId": "6b6a85e4-d227-448b-da2d-83865a31a169",
        "colab": {
          "base_uri": "https://localhost:8080/"
        }
      },
      "execution_count": 48,
      "outputs": [
        {
          "output_type": "stream",
          "name": "stdout",
          "text": [
            "Found 514 images belonging to 2 classes.\n"
          ]
        }
      ]
    },
    {
      "cell_type": "code",
      "execution_count": 35,
      "metadata": {
        "colab": {
          "base_uri": "https://localhost:8080/",
          "height": 287
        },
        "id": "AePSzOXmQZbF",
        "outputId": "2f0969fe-e0a4-422f-e0ec-696eaedbaa37"
      },
      "outputs": [
        {
          "output_type": "error",
          "ename": "ValueError",
          "evalue": "ignored",
          "traceback": [
            "\u001b[0;31m---------------------------------------------------------------------------\u001b[0m",
            "\u001b[0;31mValueError\u001b[0m                                Traceback (most recent call last)",
            "\u001b[0;32m<ipython-input-35-de098a238aec>\u001b[0m in \u001b[0;36m<module>\u001b[0;34m\u001b[0m\n\u001b[1;32m      7\u001b[0m         \u001b[0my_true\u001b[0m \u001b[0;34m=\u001b[0m \u001b[0mtemp_y_true\u001b[0m\u001b[0;34m\u001b[0m\u001b[0;34m\u001b[0m\u001b[0m\n\u001b[1;32m      8\u001b[0m     \u001b[0;32melse\u001b[0m\u001b[0;34m:\u001b[0m\u001b[0;34m\u001b[0m\u001b[0;34m\u001b[0m\u001b[0m\n\u001b[0;32m----> 9\u001b[0;31m         \u001b[0mX\u001b[0m \u001b[0;34m=\u001b[0m \u001b[0mnp\u001b[0m\u001b[0;34m.\u001b[0m\u001b[0mconcatenate\u001b[0m\u001b[0;34m(\u001b[0m\u001b[0;34m(\u001b[0m\u001b[0mX\u001b[0m\u001b[0;34m,\u001b[0m \u001b[0mtemp_X\u001b[0m\u001b[0;34m)\u001b[0m\u001b[0;34m,\u001b[0m \u001b[0maxis\u001b[0m\u001b[0;34m=\u001b[0m\u001b[0;36m0\u001b[0m\u001b[0;34m)\u001b[0m\u001b[0;34m\u001b[0m\u001b[0;34m\u001b[0m\u001b[0m\n\u001b[0m\u001b[1;32m     10\u001b[0m         \u001b[0my_true\u001b[0m \u001b[0;34m=\u001b[0m \u001b[0mnp\u001b[0m\u001b[0;34m.\u001b[0m\u001b[0mconcatenate\u001b[0m\u001b[0;34m(\u001b[0m\u001b[0;34m(\u001b[0m\u001b[0my_true\u001b[0m\u001b[0;34m,\u001b[0m \u001b[0mtemp_y_true\u001b[0m\u001b[0;34m)\u001b[0m\u001b[0;34m,\u001b[0m \u001b[0maxis\u001b[0m \u001b[0;34m=\u001b[0m \u001b[0;36m0\u001b[0m\u001b[0;34m)\u001b[0m\u001b[0;34m\u001b[0m\u001b[0;34m\u001b[0m\u001b[0m\n\u001b[1;32m     11\u001b[0m     \u001b[0mi\u001b[0m \u001b[0;34m+=\u001b[0m \u001b[0;36m1\u001b[0m\u001b[0;34m\u001b[0m\u001b[0;34m\u001b[0m\u001b[0m\n",
            "\u001b[0;32m<__array_function__ internals>\u001b[0m in \u001b[0;36mconcatenate\u001b[0;34m(*args, **kwargs)\u001b[0m\n",
            "\u001b[0;31mValueError\u001b[0m: all the input arrays must have same number of dimensions, but the array at index 0 has 4 dimension(s) and the array at index 1 has 1 dimension(s)"
          ]
        }
      ],
      "source": [
        "X, y_true = [], []\n",
        "i = 0\n",
        "while i < 30:\n",
        "    temp_X, temp_y_true = test_generator.__getitem__\n",
        "    if i < 1:\n",
        "        X = temp_X\n",
        "        y_true = temp_y_true\n",
        "    else:\n",
        "        X = np.concatenate((X, temp_X), axis=0)\n",
        "        y_true = np.concatenate((y_true, temp_y_true), axis = 0)\n",
        "    i += 1\n",
        "\n",
        "print(np.shape(X))\n",
        "print(np.shape(y_true))\n",
        "\n",
        "y_pred = model.predict(X)"
      ]
    },
    {
      "cell_type": "code",
      "execution_count": 32,
      "metadata": {
        "colab": {
          "base_uri": "https://localhost:8080/",
          "height": 453
        },
        "id": "kkK-X0JCRS8_",
        "outputId": "46984ba7-df05-4c67-842f-64631c6c8c3a"
      },
      "outputs": [
        {
          "output_type": "stream",
          "name": "stdout",
          "text": [
            "Categorical Classification\n",
            "---------------------\n",
            "Normalized confusion matrix\n",
            "[[0.975 0.025]\n",
            " [  nan   nan]]\n",
            "[[39  1]\n",
            " [ 0  0]]\n"
          ]
        },
        {
          "output_type": "stream",
          "name": "stderr",
          "text": [
            "<ipython-input-20-fe6669293d13>:23: RuntimeWarning: invalid value encountered in true_divide\n",
            "  cm = cm.astype('float') / cm.sum(axis=1)[:, np.newaxis]\n"
          ]
        },
        {
          "output_type": "display_data",
          "data": {
            "text/plain": [
              "<Figure size 432x288 with 2 Axes>"
            ],
            "image/png": "[encoded data removed]"
          },
          "metadata": {
            "needs_background": "light"
          }
        }
      ],
      "source": [
        "title_mat = 'Confusion matrix, with normalization, fold: ' + str(fold_num)\n",
        "plot_name = name_dir + '/confusion_matrix_fold' + str(fold_num) + '.png'\n",
        "print('Categorical Classification')\n",
        "print('---------------------')\n",
        "plot_confusion_matrix(y_true.argmax(axis=1),\n",
        "                      y_pred.argmax(axis=1),\n",
        "                      classes = index_labels,\n",
        "                      normalize = True,\n",
        "                      title = title_mat)\n",
        "plt.savefig(plot_name)\n",
        "cm = confusion_matrix(y_true.argmax(axis=1), y_pred.argmax(axis=1))\n",
        "print(cm)"
      ]
    },
    {
      "cell_type": "markdown",
      "source": [
        "### New Method for A2"
      ],
      "metadata": {
        "id": "S8lQmk146u0J"
      }
    },
    {
      "cell_type": "code",
      "source": [
        "# Different confusion matrix method\n",
        "# Y_pred = model.predict_generator(test_generator, len(test_df) // batch_size+1)\n",
        "Y_pred = model.predict(test_generator, batch_size=None)\n",
        "y_pred = np.argmax(Y_pred, axis=1)\n",
        "len(Y_pred)"
      ],
      "metadata": {
        "id": "apbb-akC2NIB",
        "outputId": "1ffb61f6-ff82-478a-8162-a8b2074ac92a",
        "colab": {
          "base_uri": "https://localhost:8080/"
        }
      },
      "execution_count": 63,
      "outputs": [
        {
          "output_type": "stream",
          "name": "stdout",
          "text": [
            "1/1 [==============================] - 15s 15s/step\n"
          ]
        },
        {
          "output_type": "execute_result",
          "data": {
            "text/plain": [
              "514"
            ]
          },
          "metadata": {},
          "execution_count": 63
        }
      ]
    },
    {
      "cell_type": "code",
      "execution_count": 65,
      "metadata": {
        "id": "Hl-G2SfJR7vN",
        "outputId": "4c59edc1-5f31-4f4a-e1e6-52c147bde6e1",
        "colab": {
          "base_uri": "https://localhost:8080/",
          "height": 296
        }
      },
      "outputs": [
        {
          "output_type": "execute_result",
          "data": {
            "text/plain": [
              "<function matplotlib.pyplot.show(*args, **kw)>"
            ]
          },
          "metadata": {},
          "execution_count": 65
        },
        {
          "output_type": "display_data",
          "data": {
            "text/plain": [
              "<Figure size 432x288 with 2 Axes>"
            ],
            "image/png": "[encoded data removed]"
          },
          "metadata": {
            "needs_background": "light"
          }
        }
      ],
      "source": [
        "from sklearn.metrics import ConfusionMatrixDisplay\n",
        "y_pred = np.array(y_pred)\n",
        "y_test = np.array(test_generator_classes)\n",
        "labels = [\"DRUSEN\", \"DME\"]\n",
        "\n",
        "disp = ConfusionMatrixDisplay(confusion_matrix(y_test, y_pred), display_labels=labels)\n",
        "disp.plot(cmap=plt.cm.Blues)\n",
        "plt.show"
      ]
    },
    {
      "cell_type": "code",
      "source": [],
      "metadata": {
        "id": "LJhJGqf1xV19"
      },
      "execution_count": null,
      "outputs": []
    }
  ],
  "metadata": {
    "colab": {
      "provenance": []
    },
    "gpuClass": "standard",
    "kernelspec": {
      "display_name": "Python 3 (ipykernel)",
      "language": "python",
      "name": "python3"
    },
    "language_info": {
      "codemirror_mode": {
        "name": "ipython",
        "version": 3
      },
      "file_extension": ".py",
      "mimetype": "text/x-python",
      "name": "python",
      "nbconvert_exporter": "python",
      "pygments_lexer": "ipython3",
      "version": "3.9.13"
    },
    "accelerator": "GPU"
  },
  "nbformat": 4,
  "nbformat_minor": 0
}