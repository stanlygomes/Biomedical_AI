{
 "cells": [
  {
   "cell_type": "markdown",
   "id": "082b28a9-6969-4156-bbe0-e5b149dede5f",
   "metadata": {
    "tags": []
   },
   "source": [
    "## Binary Classifier on Dataset (imported from HW1)"
   ]
  },
  {
   "cell_type": "code",
   "execution_count": 1,
   "id": "f749acd8-5766-4d52-9ad1-6c83649edc4e",
   "metadata": {},
   "outputs": [
    {
     "name": "stdout",
     "output_type": "stream",
     "text": [
      "[name: \"/device:CPU:0\"\n",
      "device_type: \"CPU\"\n",
      "memory_limit: 268435456\n",
      "locality {\n",
      "}\n",
      "incarnation: 4451500226068026013\n",
      "xla_global_id: -1\n",
      "]\n"
     ]
    }
   ],
   "source": [
    "from keras import applications\n",
    "from keras.preprocessing.image import ImageDataGenerator\n",
    "from keras.optimizers import Adam\n",
    "from keras.models import Model\n",
    "from keras.layers import Input, Convolution2D, MaxPool2D, Dense, Flatten, Dropout\n",
    "from keras.callbacks import TensorBoard, ModelCheckpoint, EarlyStopping\n",
    "from keras.utils.vis_utils import plot_model\n",
    "\n",
    "import matplotlib.pyplot as plt\n",
    "from sklearn.model_selection import train_test_split\n",
    "\n",
    "from pathlib import Path\n",
    "import pandas as pd\n",
    "import numpy as np\n",
    "\n",
    "from datetime import datetime\n",
    "import os\n",
    "\n",
    "from tensorflow.python.client import device_lib\n",
    "import tensorflow as tf\n",
    "print(device_lib.list_local_devices())"
   ]
  },
  {
   "cell_type": "code",
   "execution_count": 4,
   "id": "8c393a6b-c752-4864-b562-760b01d0fc5c",
   "metadata": {
    "colab": {
     "base_uri": "https://localhost:8080/"
    },
    "id": "eI6TjEUXuC9y",
    "outputId": "345ab716-3b8c-4664-e966-80f85cca3866"
   },
   "outputs": [
    {
     "name": "stdout",
     "output_type": "stream",
     "text": [
      "Type of classification:  categorical\n",
      "Loss function:  categorical_crossentropy\n",
      "Activation function:  softmax\n"
     ]
    }
   ],
   "source": [
    "# Setup\n",
    "fold_num = 1\n",
    "\n",
    "# Image Size\n",
    "img_width, img_height, img_depth = 128, 128, 3\n",
    "data_dir = Path('content/Data_Small')\n",
    "data_dir_train = data_dir / 'train'\n",
    "\n",
    "epochs = 10\n",
    "freq = 20\n",
    "batch_size = 40\n",
    "num_classes = 2\n",
    "train_valid_split = 0.2\n",
    "\n",
    "class_weights = {0: 2.,\n",
    "                1: 1.,\n",
    "                2: 1.}\n",
    "\n",
    "if num_classes < 2:\n",
    "    act_type = 'sigmoid'\n",
    "    class_mode = 'binary'\n",
    "    loss_fun = 'binary_crossentropy'\n",
    "else:\n",
    "    act_type = 'softmax'\n",
    "    class_mode = 'categorical'\n",
    "    loss_fun = 'categorical_crossentropy'\n",
    "print('Type of classification: ', class_mode)\n",
    "print('Loss function: ', loss_fun)\n",
    "print('Activation function: ', act_type)"
   ]
  },
  {
   "cell_type": "markdown",
   "id": "89be4720-4537-44f5-9eb0-2d7f2815ac38",
   "metadata": {
    "id": "WlP5t41sTSen"
   },
   "source": [
    "*Explanation of hyperparameters*\n",
    "\n",
    "Epochs: I first trained with 5 max epochs, which resulted in cutting off the max learning potential (loss was still decreasing). Increased to 10, which resulted in reaching close to absolute minimum.\n",
    "\n",
    "Learning rate: Based on the example code given, I used the same learning rate as it performed well for this case based on the loss plot below. It may have been possible to get a smoother loss descent with a smaller learning rate, but that would require much more epochs.\n",
    "\n",
    "Batch Size: With the default batch size of 32, my training worked well but the loss plot was quite eratic. Since I had more VRAM available, I increased the batch size to allow the calculated loss to encapsulate more data samples."
   ]
  },
  {
   "cell_type": "markdown",
   "id": "6d253c62-cec7-4052-bca3-6a8d86cc9398",
   "metadata": {
    "id": "UhNBpB49qIB4",
    "tags": []
   },
   "source": [
    "### 2: Data"
   ]
  },
  {
   "cell_type": "code",
   "execution_count": 5,
   "id": "475b7c6e-aee1-459f-b3f1-9d0d44435761",
   "metadata": {
    "colab": {
     "base_uri": "https://localhost:8080/"
    },
    "id": "odOmQQXAVFbN",
    "outputId": "1323542c-0fba-4d07-bded-458561d787d3"
   },
   "outputs": [
    {
     "name": "stdout",
     "output_type": "stream",
     "text": [
      "Found 2028 images belonging to 2 classes.\n",
      "Found 506 images belonging to 2 classes.\n"
     ]
    }
   ],
   "source": [
    "img_height = 128\n",
    "img_width = 128\n",
    "\n",
    "# # Method 1: image_dataset_from_directory\n",
    "# data_dir_DME = Path('/content/Data_Small/train/')\n",
    "# train_df = tf.keras.utils.image_dataset_from_directory(\n",
    "#     data_dir_DME,\n",
    "#     validation_split=0.2,\n",
    "#     subset=\"training\",\n",
    "#     seed=123,\n",
    "#     image_size=(img_height, img_width),\n",
    "#     batch_size=batch_size\n",
    "# )\n",
    "# val_df = tf.keras.utils.image_dataset_from_directory(\n",
    "#     data_dir_DME,\n",
    "#     validation_split=0.2,\n",
    "#     subset=\"validation\",\n",
    "#     seed=123,\n",
    "#     image_size=(img_height, img_width),\n",
    "#     batch_size=batch_size\n",
    "# )\n",
    "\n",
    "# Method 2: ImageDataGenerator\n",
    "datagen = ImageDataGenerator(\n",
    "    rescale = 1./255,\n",
    "    horizontal_flip = True,\n",
    "    vertical_flip = True,\n",
    "    rotation_range = 90,\n",
    "    validation_split = 0.2,\n",
    "    fill_mode = 'constant')\n",
    "\n",
    "train_generator = datagen.flow_from_directory(\n",
    "    directory = '/content/Data_Small/train/',\n",
    "    class_mode = class_mode,\n",
    "    batch_size = batch_size,\n",
    "    target_size = (img_height, img_width),\n",
    "    subset = \"training\")\n",
    "\n",
    "valid_generator = datagen.flow_from_directory(\n",
    "    directory = '/content/Data_Small/train/',\n",
    "    class_mode = class_mode,\n",
    "    batch_size = batch_size,\n",
    "    target_size = (img_height, img_width),\n",
    "    subset = \"validation\",\n",
    "    shuffle = False)"
   ]
  },
  {
   "cell_type": "code",
   "execution_count": 6,
   "id": "6a0a3d4d-dbcf-4785-8b5b-00d79a1eabfd",
   "metadata": {
    "colab": {
     "base_uri": "https://localhost:8080/"
    },
    "id": "-dMnxkzOjgUS",
    "outputId": "92f8ac95-597e-46bc-d2ec-6c940ce812c6"
   },
   "outputs": [
    {
     "name": "stdout",
     "output_type": "stream",
     "text": [
      "{'DME': 0, 'DRUSEN': 1}\n"
     ]
    }
   ],
   "source": [
    "class_names = train_generator.class_indices\n",
    "print(class_names)"
   ]
  },
  {
   "cell_type": "code",
   "execution_count": 7,
   "id": "6029493e-d826-4a03-bf12-76bf05af690b",
   "metadata": {
    "colab": {
     "base_uri": "https://localhost:8080/",
     "height": 398
    },
    "id": "lgFzYfI-qRYz",
    "outputId": "2c44a664-d9c1-4db6-993f-951c8cc7fa39"
   },
   "outputs": [
    {
     "data": {
      "image/png": "[encoded data removed]",
      "text/plain": [
       "<Figure size 432x288 with 6 Axes>"
      ]
     },
     "metadata": {
      "needs_background": "light"
     },
     "output_type": "display_data"
    },
    {
     "name": "stdout",
     "output_type": "stream",
     "text": [
      "y Labels:  [[0. 1.]\n",
      " [1. 0.]\n",
      " [1. 0.]\n",
      " [1. 0.]]\n",
      "sample img, max value:  1.0\n",
      "sample img, min value:  0.0\n"
     ]
    }
   ],
   "source": [
    "#For Directory\n",
    "#Preview the augmented data\n",
    "X_preview, y_preview = train_generator.next()\n",
    "\n",
    "for k in range(1,7):\n",
    "    sample_img = X_preview[k,:,:,:]\n",
    "    plt.subplot(2, 3, k)\n",
    "    plt.imshow(sample_img)\n",
    "plt.suptitle('Sample Data Augmentation', fontsize = 16)    \n",
    "plt.show()\n",
    "\n",
    "print('y Labels: ', y_preview[1:5])\n",
    "print('sample img, max value: ',np.max(sample_img))\n",
    "print('sample img, min value: ',np.min(sample_img))"
   ]
  },
  {
   "cell_type": "markdown",
   "id": "2b56ea00-2d66-413e-bcb2-540437ccae77",
   "metadata": {
    "id": "K8zph6W_qNWt"
   },
   "source": [
    "### 3: Training"
   ]
  },
  {
   "cell_type": "markdown",
   "id": "c331a0bd-bd1a-4f74-a49d-678bc1b2090d",
   "metadata": {
    "id": "sTykJS9SqcLr"
   },
   "source": [
    "##### Train your model using"
   ]
  },
  {
   "cell_type": "code",
   "execution_count": 22,
   "id": "609291b5-51fc-4023-a5ef-5d151804913e",
   "metadata": {
    "id": "DQrY7l3tqaJn"
   },
   "outputs": [],
   "source": [
    "# To prevent dataset bottleneck, keep images in memory and \n",
    "#   preprocess data while executing model during training\n",
    "# AUTOTUNE = tf.data.AUTOTUNE\n",
    "# train_df = train_df.cache().prefetch(buffer_size=AUTOTUNE)\n",
    "# val_df = val_df.cache().prefetch(buffer_size=AUTOTUNE)"
   ]
  },
  {
   "cell_type": "code",
   "execution_count": 23,
   "id": "37c6a1ed-c4ae-4e7f-b4d1-1c792abb3bfc",
   "metadata": {
    "id": "NeKy_Qj0xMvI"
   },
   "outputs": [],
   "source": [
    "gdrive_dir = '/content/gdrive/MyDrive/Biomed AI'"
   ]
  },
  {
   "cell_type": "code",
   "execution_count": 11,
   "id": "0d4f7e56-1a66-44c6-9634-996ebd219127",
   "metadata": {
    "colab": {
     "base_uri": "https://localhost:8080/"
    },
    "id": "g2HpRokhrl19",
    "outputId": "81748338-a21f-480a-c2af-24bc1f4a86c6"
   },
   "outputs": [
    {
     "name": "stdout",
     "output_type": "stream",
     "text": [
      "Downloading data from https://storage.googleapis.com/tensorflow/keras-applications/vgg16/vgg16_weights_tf_dim_ordering_tf_kernels_notop.h5\n",
      "58889256/58889256 [==============================] - 3s 0us/step\n"
     ]
    }
   ],
   "source": [
    "# Build model\n",
    "image_input = Input(shape = (img_width, img_height, img_depth))\n",
    "base_model = applications.vgg16.VGG16(input_tensor = image_input,\n",
    "                                      include_top = False,\n",
    "                                      weights = 'imagenet')\n",
    "base_output = base_model.layers[-1].output\n",
    "\n",
    "flat1 = Flatten()(base_output)\n",
    "fc1 = Dense(8192, activation = 'relu')(flat1)\n",
    "dropfc1 = Dropout(0.5)(fc1)\n",
    "fc2 = Dense(4096, activation = 'relu')(dropfc1)\n",
    "dropfc2 = Dropout(0.5)(fc2)\n",
    "\n",
    "output = Dense(num_classes, activation = act_type)(dropfc2)\n",
    "\n",
    "for layer in base_model.layers[:-9]:\n",
    "  layer.trainable = False\n",
    "\n",
    "model = Model(image_input, output)"
   ]
  },
  {
   "cell_type": "code",
   "execution_count": 12,
   "id": "abc32754-353a-48e7-b670-8c90e94fa6c6",
   "metadata": {
    "id": "Y2bLsE0kweed"
   },
   "outputs": [],
   "source": [
    "# Compile the model\n",
    "opt = Adam(learning_rate = 0.00001)\n",
    "model.compile(loss = loss_fun, optimizer = opt, metrics = ['accuracy'])"
   ]
  },
  {
   "cell_type": "code",
   "execution_count": 13,
   "id": "e7b576a0-a15b-4b88-8b07-9c3e0a6f1c0f",
   "metadata": {
    "colab": {
     "base_uri": "https://localhost:8080/"
    },
    "id": "7tEd3HSTwwuS",
    "outputId": "5411bf79-1ed6-43fd-b11e-c33b31dfe262"
   },
   "outputs": [
    {
     "name": "stderr",
     "output_type": "stream",
     "text": [
      "WARNING:tensorflow:`period` argument is deprecated. Please use `save_freq` to specify the frequency in number of batches seen.\n"
     ]
    },
    {
     "name": "stdout",
     "output_type": "stream",
     "text": [
      "Model: \"model\"\n",
      "_________________________________________________________________\n",
      " Layer (type)                Output Shape              Param #   \n",
      "=================================================================\n",
      " input_1 (InputLayer)        [(None, 128, 128, 3)]     0         \n",
      "                                                                 \n",
      " block1_conv1 (Conv2D)       (None, 128, 128, 64)      1792      \n",
      "                                                                 \n",
      " block1_conv2 (Conv2D)       (None, 128, 128, 64)      36928     \n",
      "                                                                 \n",
      " block1_pool (MaxPooling2D)  (None, 64, 64, 64)        0         \n",
      "                                                                 \n",
      " block2_conv1 (Conv2D)       (None, 64, 64, 128)       73856     \n",
      "                                                                 \n",
      " block2_conv2 (Conv2D)       (None, 64, 64, 128)       147584    \n",
      "                                                                 \n",
      " block2_pool (MaxPooling2D)  (None, 32, 32, 128)       0         \n",
      "                                                                 \n",
      " block3_conv1 (Conv2D)       (None, 32, 32, 256)       295168    \n",
      "                                                                 \n",
      " block3_conv2 (Conv2D)       (None, 32, 32, 256)       590080    \n",
      "                                                                 \n",
      " block3_conv3 (Conv2D)       (None, 32, 32, 256)       590080    \n",
      "                                                                 \n",
      " block3_pool (MaxPooling2D)  (None, 16, 16, 256)       0         \n",
      "                                                                 \n",
      " block4_conv1 (Conv2D)       (None, 16, 16, 512)       1180160   \n",
      "                                                                 \n",
      " block4_conv2 (Conv2D)       (None, 16, 16, 512)       2359808   \n",
      "                                                                 \n",
      " block4_conv3 (Conv2D)       (None, 16, 16, 512)       2359808   \n",
      "                                                                 \n",
      " block4_pool (MaxPooling2D)  (None, 8, 8, 512)         0         \n",
      "                                                                 \n",
      " block5_conv1 (Conv2D)       (None, 8, 8, 512)         2359808   \n",
      "                                                                 \n",
      " block5_conv2 (Conv2D)       (None, 8, 8, 512)         2359808   \n",
      "                                                                 \n",
      " block5_conv3 (Conv2D)       (None, 8, 8, 512)         2359808   \n",
      "                                                                 \n",
      " block5_pool (MaxPooling2D)  (None, 4, 4, 512)         0         \n",
      "                                                                 \n",
      " flatten (Flatten)           (None, 8192)              0         \n",
      "                                                                 \n",
      " dense (Dense)               (None, 8192)              67117056  \n",
      "                                                                 \n",
      " dropout (Dropout)           (None, 8192)              0         \n",
      "                                                                 \n",
      " dense_1 (Dense)             (None, 4096)              33558528  \n",
      "                                                                 \n",
      " dropout_1 (Dropout)         (None, 4096)              0         \n",
      "                                                                 \n",
      " dense_2 (Dense)             (None, 2)                 8194      \n",
      "                                                                 \n",
      "=================================================================\n",
      "Total params: 115,398,466\n",
      "Trainable params: 113,662,978\n",
      "Non-trainable params: 1,735,488\n",
      "_________________________________________________________________\n"
     ]
    }
   ],
   "source": [
    "from dummy_threading import current_thread\n",
    "# Folder setup\n",
    "init_time = datetime.now()\n",
    "current_time = init_time.strftime('%Y%m%d_%H%M%S')\n",
    "name_dir = 'trained_models_' + current_time + '_fold_num' + str(fold_num)\n",
    "os.mkdir(name_dir)\n",
    "\n",
    "# Callbacks1: ModelCheckpointer\n",
    "model_file_format = name_dir + '/model_' + str(fold_num) + '_model.{epoch:04d}.hdf5'\n",
    "check = ModelCheckpoint(model_file_format, period = freq, verbose = 1)\n",
    "\n",
    "# Callbacks2: TensorBoard\n",
    "tensor_check = './logs/' + current_time + '_train_testsplit' + str(fold_num)\n",
    "tensor_board = TensorBoard(tensor_check)\n",
    "\n",
    "# Callbacks3: EarlyStopping\n",
    "early_stop = EarlyStopping(monitor='val_loss', min_delta=0, patience=0, verbose=0, mode='auto')\n",
    "# Plot model\n",
    "figure_name = name_dir + '/model_output.png'\n",
    "plot_model(model, figure_name, show_shapes = True)\n",
    "\n",
    "model.summary()"
   ]
  },
  {
   "cell_type": "code",
   "execution_count": 14,
   "id": "e965ace9-28cd-44d4-81dd-171cadb9e60b",
   "metadata": {
    "colab": {
     "base_uri": "https://localhost:8080/"
    },
    "id": "XD1dT_T2RgCT",
    "outputId": "ce62ea59-7bd0-4b29-85fa-8fe9a187add6"
   },
   "outputs": [
    {
     "name": "stderr",
     "output_type": "stream",
     "text": [
      "<ipython-input-14-8f503a8aa9a4>:1: UserWarning: `Model.fit_generator` is deprecated and will be removed in a future version. Please use `Model.fit`, which supports generators.\n",
      "  history = model.fit_generator(train_generator,\n"
     ]
    },
    {
     "name": "stdout",
     "output_type": "stream",
     "text": [
      "Epoch 1/10\n",
      "50/50 [==============================] - 30s 378ms/step - loss: 1.0535 - accuracy: 0.5865 - val_loss: 0.7017 - val_accuracy: 0.6292\n",
      "Epoch 2/10\n",
      "50/50 [==============================] - 15s 304ms/step - loss: 0.8883 - accuracy: 0.6408 - val_loss: 0.5264 - val_accuracy: 0.6896\n",
      "Epoch 3/10\n",
      "50/50 [==============================] - 15s 307ms/step - loss: 0.5985 - accuracy: 0.7731 - val_loss: 0.3512 - val_accuracy: 0.8396\n",
      "Epoch 4/10\n",
      "50/50 [==============================] - 17s 350ms/step - loss: 0.4015 - accuracy: 0.8778 - val_loss: 0.3630 - val_accuracy: 0.8583\n",
      "Epoch 5/10\n",
      "50/50 [==============================] - 15s 306ms/step - loss: 0.3128 - accuracy: 0.8954 - val_loss: 0.1993 - val_accuracy: 0.9187\n",
      "Epoch 6/10\n",
      "50/50 [==============================] - 15s 303ms/step - loss: 0.2880 - accuracy: 0.9054 - val_loss: 0.1816 - val_accuracy: 0.9250\n",
      "Epoch 7/10\n",
      "50/50 [==============================] - 19s 372ms/step - loss: 0.2640 - accuracy: 0.9140 - val_loss: 0.2587 - val_accuracy: 0.8958\n",
      "Epoch 8/10\n",
      "50/50 [==============================] - 15s 304ms/step - loss: 0.2699 - accuracy: 0.9130 - val_loss: 0.2913 - val_accuracy: 0.8854\n",
      "Epoch 9/10\n",
      "50/50 [==============================] - 15s 307ms/step - loss: 0.2347 - accuracy: 0.9256 - val_loss: 0.1694 - val_accuracy: 0.9375\n",
      "Epoch 10/10\n",
      "50/50 [==============================] - 18s 350ms/step - loss: 0.2029 - accuracy: 0.9351 - val_loss: 0.2254 - val_accuracy: 0.9146\n"
     ]
    }
   ],
   "source": [
    "history = model.fit_generator(train_generator,\n",
    "                              epochs = epochs,\n",
    "                              steps_per_epoch = train_generator.samples // batch_size,\n",
    "                              validation_data = valid_generator,\n",
    "                              validation_steps = valid_generator.samples // batch_size,\n",
    "                              callbacks = [check, tensor_board],\n",
    "                              class_weight = class_weights)\n",
    "\n",
    "early_stop_name = name_dir + '/fold_num_' + str(fold_num) + 'early_stop_model.hdf5'\n",
    "model.save_weights(early_stop_name)\n",
    "hist_df = pd.DataFrame(history.history)"
   ]
  },
  {
   "cell_type": "code",
   "execution_count": 15,
   "id": "65f13bdb-fa5a-4bd7-b926-fdb72616ddbf",
   "metadata": {
    "colab": {
     "base_uri": "https://localhost:8080/"
    },
    "id": "OGxdz0KMSEIe",
    "outputId": "cdfc69cd-d4f3-4a14-c7cd-1ca34187cf6f"
   },
   "outputs": [
    {
     "name": "stderr",
     "output_type": "stream",
     "text": [
      "WARNING:absl:Found untraced functions such as _jit_compiled_convolution_op, _jit_compiled_convolution_op, _jit_compiled_convolution_op, _jit_compiled_convolution_op, _jit_compiled_convolution_op while saving (showing 5 of 13). These functions will not be directly callable after loading.\n"
     ]
    }
   ],
   "source": [
    "model.save('/content/gdrive/MyDrive/Biomed AI/10epoch_model')"
   ]
  },
  {
   "cell_type": "code",
   "execution_count": 16,
   "id": "593d2c14-b1c2-4c1c-b9a9-cab2f31906d4",
   "metadata": {
    "id": "TR-qM5ZJOPbJ"
   },
   "outputs": [],
   "source": [
    "# Save history\n",
    "# np.save('10epoch_hist.npy', history.history)\n",
    "# history.history\n",
    "hist_df = pd.DataFrame(history.history)\n",
    "hist_df.to_csv('/content/gdrive/MyDrive/Biomed AI/10epoch_hist.csv')"
   ]
  },
  {
   "cell_type": "code",
   "execution_count": 8,
   "id": "7ac20f3b-5d95-4c04-af21-f4d25ecf4c11",
   "metadata": {
    "colab": {
     "base_uri": "https://localhost:8080/"
    },
    "id": "QtEB1AbBOxrF",
    "outputId": "33497c7e-2eea-4460-d359-8b2ddaa25c2c"
   },
   "outputs": [
    {
     "name": "stdout",
     "output_type": "stream",
     "text": [
      "Model: \"model_2\"\n",
      "_________________________________________________________________\n",
      " Layer (type)                Output Shape              Param #   \n",
      "=================================================================\n",
      " input_3 (InputLayer)        [(None, 128, 128, 3)]     0         \n",
      "                                                                 \n",
      " block1_conv1 (Conv2D)       (None, 128, 128, 64)      1792      \n",
      "                                                                 \n",
      " block1_conv2 (Conv2D)       (None, 128, 128, 64)      36928     \n",
      "                                                                 \n",
      " block1_pool (MaxPooling2D)  (None, 64, 64, 64)        0         \n",
      "                                                                 \n",
      " block2_conv1 (Conv2D)       (None, 64, 64, 128)       73856     \n",
      "                                                                 \n",
      " block2_conv2 (Conv2D)       (None, 64, 64, 128)       147584    \n",
      "                                                                 \n",
      " block2_pool (MaxPooling2D)  (None, 32, 32, 128)       0         \n",
      "                                                                 \n",
      " block3_conv1 (Conv2D)       (None, 32, 32, 256)       295168    \n",
      "                                                                 \n",
      " block3_conv2 (Conv2D)       (None, 32, 32, 256)       590080    \n",
      "                                                                 \n",
      " block3_conv3 (Conv2D)       (None, 32, 32, 256)       590080    \n",
      "                                                                 \n",
      " block3_pool (MaxPooling2D)  (None, 16, 16, 256)       0         \n",
      "                                                                 \n",
      " block4_conv1 (Conv2D)       (None, 16, 16, 512)       1180160   \n",
      "                                                                 \n",
      " block4_conv2 (Conv2D)       (None, 16, 16, 512)       2359808   \n",
      "                                                                 \n",
      " block4_conv3 (Conv2D)       (None, 16, 16, 512)       2359808   \n",
      "                                                                 \n",
      " block4_pool (MaxPooling2D)  (None, 8, 8, 512)         0         \n",
      "                                                                 \n",
      " block5_conv1 (Conv2D)       (None, 8, 8, 512)         2359808   \n",
      "                                                                 \n",
      " block5_conv2 (Conv2D)       (None, 8, 8, 512)         2359808   \n",
      "                                                                 \n",
      " block5_conv3 (Conv2D)       (None, 8, 8, 512)         2359808   \n",
      "                                                                 \n",
      " block5_pool (MaxPooling2D)  (None, 4, 4, 512)         0         \n",
      "                                                                 \n",
      " flatten_2 (Flatten)         (None, 8192)              0         \n",
      "                                                                 \n",
      " dense_6 (Dense)             (None, 8192)              67117056  \n",
      "                                                                 \n",
      " dropout_4 (Dropout)         (None, 8192)              0         \n",
      "                                                                 \n",
      " dense_7 (Dense)             (None, 4096)              33558528  \n",
      "                                                                 \n",
      " dropout_5 (Dropout)         (None, 4096)              0         \n",
      "                                                                 \n",
      " dense_8 (Dense)             (None, 2)                 8194      \n",
      "                                                                 \n",
      "=================================================================\n",
      "Total params: 115,398,466\n",
      "Trainable params: 113,662,978\n",
      "Non-trainable params: 1,735,488\n",
      "_________________________________________________________________\n"
     ]
    }
   ],
   "source": [
    "# # Load Model\n",
    "# model = tf.keras.models.load_model('/content/gdrive/MyDrive/Biomed AI/10epoch_model')\n",
    "# model.summary()"
   ]
  },
  {
   "cell_type": "code",
   "execution_count": 10,
   "id": "d92a13db-5283-4b8a-bddc-15c6bb46118f",
   "metadata": {
    "colab": {
     "base_uri": "https://localhost:8080/",
     "height": 363
    },
    "id": "V3l0Io3vPa3M",
    "outputId": "80025409-cea2-44bd-fec3-790df5f388e3"
   },
   "outputs": [
    {
     "data": {
      "text/html": [
       "\n",
       "  <div id=\"df-0a3ca74e-6dec-4386-ae30-c8fbef3ac40a\">\n",
       "    <div class=\"colab-df-container\">\n",
       "      <div>\n",
       "<style scoped>\n",
       "    .dataframe tbody tr th:only-of-type {\n",
       "        vertical-align: middle;\n",
       "    }\n",
       "\n",
       "    .dataframe tbody tr th {\n",
       "        vertical-align: top;\n",
       "    }\n",
       "\n",
       "    .dataframe thead th {\n",
       "        text-align: right;\n",
       "    }\n",
       "</style>\n",
       "<table border=\"1\" class=\"dataframe\">\n",
       "  <thead>\n",
       "    <tr style=\"text-align: right;\">\n",
       "      <th></th>\n",
       "      <th>Unnamed: 0</th>\n",
       "      <th>loss</th>\n",
       "      <th>accuracy</th>\n",
       "      <th>val_loss</th>\n",
       "      <th>val_accuracy</th>\n",
       "    </tr>\n",
       "  </thead>\n",
       "  <tbody>\n",
       "    <tr>\n",
       "      <th>0</th>\n",
       "      <td>0</td>\n",
       "      <td>1.045777</td>\n",
       "      <td>0.583501</td>\n",
       "      <td>0.857778</td>\n",
       "      <td>0.629167</td>\n",
       "    </tr>\n",
       "    <tr>\n",
       "      <th>1</th>\n",
       "      <td>1</td>\n",
       "      <td>0.918416</td>\n",
       "      <td>0.620221</td>\n",
       "      <td>0.722819</td>\n",
       "      <td>0.633333</td>\n",
       "    </tr>\n",
       "    <tr>\n",
       "      <th>2</th>\n",
       "      <td>2</td>\n",
       "      <td>0.623900</td>\n",
       "      <td>0.761066</td>\n",
       "      <td>0.376969</td>\n",
       "      <td>0.825000</td>\n",
       "    </tr>\n",
       "    <tr>\n",
       "      <th>3</th>\n",
       "      <td>3</td>\n",
       "      <td>0.418422</td>\n",
       "      <td>0.866197</td>\n",
       "      <td>0.346826</td>\n",
       "      <td>0.870833</td>\n",
       "    </tr>\n",
       "    <tr>\n",
       "      <th>4</th>\n",
       "      <td>4</td>\n",
       "      <td>0.324159</td>\n",
       "      <td>0.894869</td>\n",
       "      <td>0.212213</td>\n",
       "      <td>0.908333</td>\n",
       "    </tr>\n",
       "    <tr>\n",
       "      <th>5</th>\n",
       "      <td>5</td>\n",
       "      <td>0.295158</td>\n",
       "      <td>0.906439</td>\n",
       "      <td>0.266612</td>\n",
       "      <td>0.897917</td>\n",
       "    </tr>\n",
       "    <tr>\n",
       "      <th>6</th>\n",
       "      <td>6</td>\n",
       "      <td>0.272669</td>\n",
       "      <td>0.915493</td>\n",
       "      <td>0.201055</td>\n",
       "      <td>0.914583</td>\n",
       "    </tr>\n",
       "    <tr>\n",
       "      <th>7</th>\n",
       "      <td>7</td>\n",
       "      <td>0.240861</td>\n",
       "      <td>0.926056</td>\n",
       "      <td>0.255602</td>\n",
       "      <td>0.908333</td>\n",
       "    </tr>\n",
       "    <tr>\n",
       "      <th>8</th>\n",
       "      <td>8</td>\n",
       "      <td>0.231335</td>\n",
       "      <td>0.926056</td>\n",
       "      <td>0.183989</td>\n",
       "      <td>0.920833</td>\n",
       "    </tr>\n",
       "    <tr>\n",
       "      <th>9</th>\n",
       "      <td>9</td>\n",
       "      <td>0.217301</td>\n",
       "      <td>0.930583</td>\n",
       "      <td>0.246455</td>\n",
       "      <td>0.889583</td>\n",
       "    </tr>\n",
       "  </tbody>\n",
       "</table>\n",
       "</div>\n",
       "      <button class=\"colab-df-convert\" onclick=\"convertToInteractive('df-0a3ca74e-6dec-4386-ae30-c8fbef3ac40a')\"\n",
       "              title=\"Convert this dataframe to an interactive table.\"\n",
       "              style=\"display:none;\">\n",
       "        \n",
       "  <svg xmlns=\"http://www.w3.org/2000/svg\" height=\"24px\"viewBox=\"0 0 24 24\"\n",
       "       width=\"24px\">\n",
       "    <path d=\"M0 0h24v24H0V0z\" fill=\"none\"/>\n",
       "    <path d=\"M18.56 5.44l.94 2.06.94-2.06 2.06-.94-2.06-.94-.94-2.06-.94 2.06-2.06.94zm-11 1L8.5 8.5l.94-2.06 2.06-.94-2.06-.94L8.5 2.5l-.94 2.06-2.06.94zm10 10l.94 2.06.94-2.06 2.06-.94-2.06-.94-.94-2.06-.94 2.06-2.06.94z\"/><path d=\"M17.41 7.96l-1.37-1.37c-.4-.4-.92-.59-1.43-.59-.52 0-1.04.2-1.43.59L10.3 9.45l-7.72 7.72c-.78.78-.78 2.05 0 2.83L4 21.41c.39.39.9.59 1.41.59.51 0 1.02-.2 1.41-.59l7.78-7.78 2.81-2.81c.8-.78.8-2.07 0-2.86zM5.41 20L4 18.59l7.72-7.72 1.47 1.35L5.41 20z\"/>\n",
       "  </svg>\n",
       "      </button>\n",
       "      \n",
       "  <style>\n",
       "    .colab-df-container {\n",
       "      display:flex;\n",
       "      flex-wrap:wrap;\n",
       "      gap: 12px;\n",
       "    }\n",
       "\n",
       "    .colab-df-convert {\n",
       "      background-color: #E8F0FE;\n",
       "      border: none;\n",
       "      border-radius: 50%;\n",
       "      cursor: pointer;\n",
       "      display: none;\n",
       "      fill: #1967D2;\n",
       "      height: 32px;\n",
       "      padding: 0 0 0 0;\n",
       "      width: 32px;\n",
       "    }\n",
       "\n",
       "    .colab-df-convert:hover {\n",
       "      background-color: #E2EBFA;\n",
       "      box-shadow: 0px 1px 2px rgba(60, 64, 67, 0.3), 0px 1px 3px 1px rgba(60, 64, 67, 0.15);\n",
       "      fill: #174EA6;\n",
       "    }\n",
       "\n",
       "    [theme=dark] .colab-df-convert {\n",
       "      background-color: #3B4455;\n",
       "      fill: #D2E3FC;\n",
       "    }\n",
       "\n",
       "    [theme=dark] .colab-df-convert:hover {\n",
       "      background-color: #434B5C;\n",
       "      box-shadow: 0px 1px 3px 1px rgba(0, 0, 0, 0.15);\n",
       "      filter: drop-shadow(0px 1px 2px rgba(0, 0, 0, 0.3));\n",
       "      fill: #FFFFFF;\n",
       "    }\n",
       "  </style>\n",
       "\n",
       "      <script>\n",
       "        const buttonEl =\n",
       "          document.querySelector('#df-0a3ca74e-6dec-4386-ae30-c8fbef3ac40a button.colab-df-convert');\n",
       "        buttonEl.style.display =\n",
       "          google.colab.kernel.accessAllowed ? 'block' : 'none';\n",
       "\n",
       "        async function convertToInteractive(key) {\n",
       "          const element = document.querySelector('#df-0a3ca74e-6dec-4386-ae30-c8fbef3ac40a');\n",
       "          const dataTable =\n",
       "            await google.colab.kernel.invokeFunction('convertToInteractive',\n",
       "                                                     [key], {});\n",
       "          if (!dataTable) return;\n",
       "\n",
       "          const docLinkHtml = 'Like what you see? Visit the ' +\n",
       "            '<a target=\"_blank\" href=https://colab.research.google.com/notebooks/data_table.ipynb>data table notebook</a>'\n",
       "            + ' to learn more about interactive tables.';\n",
       "          element.innerHTML = '';\n",
       "          dataTable['output_type'] = 'display_data';\n",
       "          await google.colab.output.renderOutput(dataTable, element);\n",
       "          const docLink = document.createElement('div');\n",
       "          docLink.innerHTML = docLinkHtml;\n",
       "          element.appendChild(docLink);\n",
       "        }\n",
       "      </script>\n",
       "    </div>\n",
       "  </div>\n",
       "  "
      ],
      "text/plain": [
       "   Unnamed: 0      loss  accuracy  val_loss  val_accuracy\n",
       "0           0  1.045777  0.583501  0.857778      0.629167\n",
       "1           1  0.918416  0.620221  0.722819      0.633333\n",
       "2           2  0.623900  0.761066  0.376969      0.825000\n",
       "3           3  0.418422  0.866197  0.346826      0.870833\n",
       "4           4  0.324159  0.894869  0.212213      0.908333\n",
       "5           5  0.295158  0.906439  0.266612      0.897917\n",
       "6           6  0.272669  0.915493  0.201055      0.914583\n",
       "7           7  0.240861  0.926056  0.255602      0.908333\n",
       "8           8  0.231335  0.926056  0.183989      0.920833\n",
       "9           9  0.217301  0.930583  0.246455      0.889583"
      ]
     },
     "execution_count": 10,
     "metadata": {},
     "output_type": "execute_result"
    }
   ],
   "source": [
    "# # Plot training and validation loss\n",
    "# stats_df = pd.read_csv('/content/gdrive/MyDrive/Biomed AI/10epoch_hist.csv')\n",
    "# stats_df"
   ]
  },
  {
   "cell_type": "code",
   "execution_count": 19,
   "id": "8844dfb7-8dbd-42b5-a5c2-406d6660aca0",
   "metadata": {
    "colab": {
     "base_uri": "https://localhost:8080/",
     "height": 545
    },
    "id": "Q0lUFV_pQLKF",
    "outputId": "b149c1a6-b60c-41c0-a0a2-78ab7e53b212"
   },
   "outputs": [
    {
     "data": {
      "image/png": "[encoded data removed]",
      "text/plain": [
       "<Figure size 432x288 with 1 Axes>"
      ]
     },
     "metadata": {
      "needs_background": "light"
     },
     "output_type": "display_data"
    },
    {
     "data": {
      "image/png": "[encoded data removed]",
      "text/plain": [
       "<Figure size 432x288 with 1 Axes>"
      ]
     },
     "metadata": {
      "needs_background": "light"
     },
     "output_type": "display_data"
    }
   ],
   "source": [
    "# Assign each loss/accuracy\n",
    "acc = history.history['accuracy']\n",
    "val_acc = history.history['val_accuracy']\n",
    "loss = history.history['loss']\n",
    "val_loss = history.history['val_loss']\n",
    "\n",
    "epochs = range(1, len(acc) + 1)\n",
    "\n",
    "plt.plot(epochs, acc, 'b', label='Training acc')\n",
    "plt.plot(epochs, val_acc, 'r', label='Validation acc')\n",
    "plt.title('Training and validation accuracy')\n",
    "plt.legend()\n",
    "\n",
    "plt.figure()\n",
    "\n",
    "plt.plot(epochs, loss, 'b', label='Training loss')\n",
    "plt.plot(epochs, val_loss, 'r', label='Validation loss')\n",
    "plt.title('Training and validation loss')\n",
    "plt.legend()\n",
    "\n",
    "plt.show()"
   ]
  },
  {
   "cell_type": "markdown",
   "id": "e2e7c846-15fc-4a22-bd9b-0d9604080817",
   "metadata": {
    "id": "C6EGxJ-uQUlq"
   },
   "source": [
    "### Confusion Matrix"
   ]
  },
  {
   "cell_type": "code",
   "execution_count": 20,
   "id": "4d1d745b-2084-4b5c-87fc-049d70e1ab1e",
   "metadata": {
    "id": "Bh-iuciqQYk4"
   },
   "outputs": [],
   "source": [
    "import matplotlib.pyplot as plt\n",
    "from sklearn.metrics import confusion_matrix\n",
    "\n",
    "def plot_confusion_matrix(y_true, y_pred, classes,\n",
    "                          normalize=False,\n",
    "                          title=None,\n",
    "                          cmap=plt.cm.Blues):\n",
    "    \"\"\"\n",
    "    This function prints and plots the confusion matrix.\n",
    "    Normalization can be applied by setting `normalize=True`.\n",
    "    \"\"\"\n",
    "    if not title:\n",
    "        if normalize:\n",
    "            title = 'Normalized confusion matrix'\n",
    "        else:\n",
    "            title = 'Confusion matrix, without normalization'\n",
    "\n",
    "    # Compute confusion matrix\n",
    "    cm = confusion_matrix(y_true, y_pred)\n",
    "    # Only use the labels that appear in the data\n",
    "    classes = classes#[unique_labels(y_true, y_pred)]\n",
    "    if normalize:\n",
    "        cm = cm.astype('float') / cm.sum(axis=1)[:, np.newaxis]\n",
    "        print(\"Normalized confusion matrix\")\n",
    "    else:\n",
    "        print('Confusion matrix, without normalization')\n",
    "\n",
    "    print(cm)\n",
    "\n",
    "    fig, ax = plt.subplots()\n",
    "    im = ax.imshow(cm, interpolation='nearest', cmap=cmap)\n",
    "    ax.figure.colorbar(im, ax=ax)\n",
    "    # We want to show all ticks...\n",
    "    ax.set(xticks=np.arange(cm.shape[1]),\n",
    "           yticks=np.arange(cm.shape[0]),\n",
    "           # ... and label them with the respective list entries\n",
    "           xticklabels=classes, yticklabels=classes,\n",
    "           title=title,\n",
    "           ylabel='True label',\n",
    "           xlabel='Predicted label')\n",
    "\n",
    "    # Rotate the tick labels and set their alignment.\n",
    "    plt.setp(ax.get_xticklabels(), rotation=45, ha=\"right\",\n",
    "             rotation_mode=\"anchor\")\n",
    "\n",
    "    # Loop over data dimensions and create text annotations.\n",
    "    fmt = '.2f' if normalize else 'd'\n",
    "    thresh = cm.max() / 2.\n",
    "    for i in range(cm.shape[0]):\n",
    "        for j in range(cm.shape[1]):\n",
    "            ax.text(j, i, format(cm[i, j], fmt),\n",
    "                    ha=\"center\", va=\"center\",\n",
    "                    color=\"white\" if cm[i, j] > thresh else \"black\")\n",
    "    fig.tight_layout()\n",
    "    return ax"
   ]
  },
  {
   "cell_type": "code",
   "execution_count": 21,
   "id": "b93027b2-6ced-4ce2-92f5-5177670da1ad",
   "metadata": {
    "colab": {
     "base_uri": "https://localhost:8080/"
    },
    "id": "AePSzOXmQZbF",
    "outputId": "4b99ffe7-b569-4e29-dd31-400440e4b9aa"
   },
   "outputs": [
    {
     "name": "stdout",
     "output_type": "stream",
     "text": [
      "Found 2534 images belonging to 2 classes.\n",
      "(1200, 128, 128, 3)\n",
      "(1200, 2)\n",
      "38/38 [==============================] - 4s 75ms/step\n"
     ]
    }
   ],
   "source": [
    "test_datagen = ImageDataGenerator(\n",
    "    rescale=1./255,\n",
    "    horizontal_flip = True,\n",
    "    vertical_flip = True,\n",
    "    zoom_range = 0.2,\n",
    "    rotation_range = 90,\n",
    "    fill_mode = 'constant')\n",
    "\n",
    "test_generator = test_datagen.flow_from_directory(\n",
    "                              directory = '/content/Data_Small/train',\n",
    "                              target_size = (img_width, img_height),\n",
    "                              class_mode = class_mode,\n",
    "                              batch_size = batch_size)\n",
    "X, y_true = [], []\n",
    "i = 0\n",
    "while i < 30:\n",
    "    temp_X, temp_y_true = test_generator.next()\n",
    "    if i < 1:\n",
    "        X = temp_X\n",
    "        y_true = temp_y_true\n",
    "    else:\n",
    "        X = np.concatenate((X, temp_X), axis=0)\n",
    "        y_true = np.concatenate((y_true, temp_y_true), axis = 0)\n",
    "    i += 1\n",
    "\n",
    "print(np.shape(X))\n",
    "print(np.shape(y_true))\n",
    "\n",
    "y_pred = model.predict(X)"
   ]
  },
  {
   "cell_type": "code",
   "execution_count": 23,
   "id": "ed477eca-9b83-429c-82ad-64ef0d3ef969",
   "metadata": {
    "colab": {
     "base_uri": "https://localhost:8080/",
     "height": 419
    },
    "id": "kkK-X0JCRS8_",
    "outputId": "7feb7747-0177-4a7b-a5d0-2af91ae3b99b"
   },
   "outputs": [
    {
     "name": "stdout",
     "output_type": "stream",
     "text": [
      "Categorical Classification\n",
      "---------------------\n",
      "Normalized confusion matrix\n",
      "[[0.98314607 0.01685393]\n",
      " [0.16188525 0.83811475]]\n",
      "[[700  12]\n",
      " [ 79 409]]\n"
     ]
    },
    {
     "data": {
      "image/png": "[encoded data removed]",
      "text/plain": [
       "<Figure size 432x288 with 2 Axes>"
      ]
     },
     "metadata": {
      "needs_background": "light"
     },
     "output_type": "display_data"
    }
   ],
   "source": [
    "title_mat = 'Confusion matrix, with normalization, fold: ' + str(fold_num)\n",
    "plot_name = name_dir + '/confusion_matrix_fold' + str(fold_num) + '.png'\n",
    "print('Categorical Classification')\n",
    "print('---------------------')\n",
    "plot_confusion_matrix(y_true.argmax(axis=1),\n",
    "                      y_pred.argmax(axis=1),\n",
    "                      classes = class_names,\n",
    "                      normalize = True,\n",
    "                      title = title_mat)\n",
    "plt.savefig(plot_name)\n",
    "cm = confusion_matrix(y_true.argmax(axis=1), y_pred.argmax(axis=1))\n",
    "print(cm)"
   ]
  }
 ],
 "metadata": {
  "kernelspec": {
   "display_name": "Python 3 (ipykernel)",
   "language": "python",
   "name": "python3"
  },
  "language_info": {
   "codemirror_mode": {
    "name": "ipython",
    "version": 3
   },
   "file_extension": ".py",
   "mimetype": "text/x-python",
   "name": "python",
   "nbconvert_exporter": "python",
   "pygments_lexer": "ipython3",
   "version": "3.9.16"
  }
 },
 "nbformat": 4,
 "nbformat_minor": 5
}
