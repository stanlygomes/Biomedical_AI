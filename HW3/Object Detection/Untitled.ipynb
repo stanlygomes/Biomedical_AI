{
 "cells": [
  {
   "cell_type": "code",
   "execution_count": 12,
   "id": "872fbc19-56b1-4442-b3f5-06dc933a610e",
   "metadata": {},
   "outputs": [],
   "source": [
    "import os\n",
    "if not os.path.exists(\"mask_rcnn_coco.h5\"):\n",
    "  !wget --quiet https://github.com/matterport/Mask_RCNN/releases/download/v2.0/mask_rcnn_coco.h5\n",
    "  !ls -lh mask_rcnn_coco.h5"
   ]
  },
  {
   "cell_type": "code",
   "execution_count": 13,
   "id": "4c20bed9-71c3-46c6-8293-7e066abb3bd8",
   "metadata": {},
   "outputs": [
    {
     "ename": "ValueError",
     "evalue": "Exception encountered when calling layer \"mrcnn_bbox\" (type Reshape).\n\nTried to convert 'shape' to a tensor and failed. Error: None values not supported.\n\nCall arguments received by layer \"mrcnn_bbox\" (type Reshape):\n  • inputs=tf.Tensor(shape=(1, None, 324), dtype=float32)",
     "output_type": "error",
     "traceback": [
      "\u001b[1;31m---------------------------------------------------------------------------\u001b[0m",
      "\u001b[1;31mValueError\u001b[0m                                Traceback (most recent call last)",
      "Cell \u001b[1;32mIn[13], line 26\u001b[0m\n\u001b[0;32m     22\u001b[0m     NUM_CLASSES \u001b[38;5;241m=\u001b[39m \u001b[38;5;28mlen\u001b[39m(CLASS_NAMES)\n\u001b[0;32m     24\u001b[0m \u001b[38;5;66;03m# Initialize the Mask R-CNN model for inference and then load the weights.\u001b[39;00m\n\u001b[0;32m     25\u001b[0m \u001b[38;5;66;03m# This step builds the Keras model architecture.\u001b[39;00m\n\u001b[1;32m---> 26\u001b[0m model \u001b[38;5;241m=\u001b[39m \u001b[43mmrcnn\u001b[49m\u001b[38;5;241;43m.\u001b[39;49m\u001b[43mmodel\u001b[49m\u001b[38;5;241;43m.\u001b[39;49m\u001b[43mMaskRCNN\u001b[49m\u001b[43m(\u001b[49m\u001b[43mmode\u001b[49m\u001b[38;5;241;43m=\u001b[39;49m\u001b[38;5;124;43m\"\u001b[39;49m\u001b[38;5;124;43minference\u001b[39;49m\u001b[38;5;124;43m\"\u001b[39;49m\u001b[43m,\u001b[49m\u001b[43m \u001b[49m\n\u001b[0;32m     27\u001b[0m \u001b[43m                             \u001b[49m\u001b[43mconfig\u001b[49m\u001b[38;5;241;43m=\u001b[39;49m\u001b[43mSimpleConfig\u001b[49m\u001b[43m(\u001b[49m\u001b[43m)\u001b[49m\u001b[43m,\u001b[49m\n\u001b[0;32m     28\u001b[0m \u001b[43m                             \u001b[49m\u001b[43mmodel_dir\u001b[49m\u001b[38;5;241;43m=\u001b[39;49m\u001b[43mos\u001b[49m\u001b[38;5;241;43m.\u001b[39;49m\u001b[43mgetcwd\u001b[49m\u001b[43m(\u001b[49m\u001b[43m)\u001b[49m\u001b[43m)\u001b[49m\n\u001b[0;32m     30\u001b[0m \u001b[38;5;66;03m# Load the weights into the model.\u001b[39;00m\n\u001b[0;32m     31\u001b[0m model\u001b[38;5;241m.\u001b[39mload_weights(filepath\u001b[38;5;241m=\u001b[39m\u001b[38;5;124m\"\u001b[39m\u001b[38;5;124mmask_rcnn_coco.h5\u001b[39m\u001b[38;5;124m\"\u001b[39m, \n\u001b[0;32m     32\u001b[0m                    by_name\u001b[38;5;241m=\u001b[39m\u001b[38;5;28;01mTrue\u001b[39;00m)\n",
      "File \u001b[1;32m~\\Documents\\GitHub\\Biomedical_AI\\HW3\\Object Detection\\mrcnn\\model.py:1837\u001b[0m, in \u001b[0;36mMaskRCNN.__init__\u001b[1;34m(self, mode, config, model_dir)\u001b[0m\n\u001b[0;32m   1835\u001b[0m \u001b[38;5;28mself\u001b[39m\u001b[38;5;241m.\u001b[39mmodel_dir \u001b[38;5;241m=\u001b[39m model_dir\n\u001b[0;32m   1836\u001b[0m \u001b[38;5;28mself\u001b[39m\u001b[38;5;241m.\u001b[39mset_log_dir()\n\u001b[1;32m-> 1837\u001b[0m \u001b[38;5;28mself\u001b[39m\u001b[38;5;241m.\u001b[39mkeras_model \u001b[38;5;241m=\u001b[39m \u001b[38;5;28;43mself\u001b[39;49m\u001b[38;5;241;43m.\u001b[39;49m\u001b[43mbuild\u001b[49m\u001b[43m(\u001b[49m\u001b[43mmode\u001b[49m\u001b[38;5;241;43m=\u001b[39;49m\u001b[43mmode\u001b[49m\u001b[43m,\u001b[49m\u001b[43m \u001b[49m\u001b[43mconfig\u001b[49m\u001b[38;5;241;43m=\u001b[39;49m\u001b[43mconfig\u001b[49m\u001b[43m)\u001b[49m\n",
      "File \u001b[1;32m~\\Documents\\GitHub\\Biomedical_AI\\HW3\\Object Detection\\mrcnn\\model.py:2035\u001b[0m, in \u001b[0;36mMaskRCNN.build\u001b[1;34m(self, mode, config)\u001b[0m\n\u001b[0;32m   2030\u001b[0m     model \u001b[38;5;241m=\u001b[39m KM\u001b[38;5;241m.\u001b[39mModel(inputs, outputs, name\u001b[38;5;241m=\u001b[39m\u001b[38;5;124m'\u001b[39m\u001b[38;5;124mmask_rcnn\u001b[39m\u001b[38;5;124m'\u001b[39m)\n\u001b[0;32m   2031\u001b[0m \u001b[38;5;28;01melse\u001b[39;00m:\n\u001b[0;32m   2032\u001b[0m     \u001b[38;5;66;03m# Network Heads\u001b[39;00m\n\u001b[0;32m   2033\u001b[0m     \u001b[38;5;66;03m# Proposal classifier and BBox regressor heads\u001b[39;00m\n\u001b[0;32m   2034\u001b[0m     mrcnn_class_logits, mrcnn_class, mrcnn_bbox \u001b[38;5;241m=\u001b[39m\\\n\u001b[1;32m-> 2035\u001b[0m         \u001b[43mfpn_classifier_graph\u001b[49m\u001b[43m(\u001b[49m\u001b[43mrpn_rois\u001b[49m\u001b[43m,\u001b[49m\u001b[43m \u001b[49m\u001b[43mmrcnn_feature_maps\u001b[49m\u001b[43m,\u001b[49m\u001b[43m \u001b[49m\u001b[43minput_image_meta\u001b[49m\u001b[43m,\u001b[49m\n\u001b[0;32m   2036\u001b[0m \u001b[43m                             \u001b[49m\u001b[43mconfig\u001b[49m\u001b[38;5;241;43m.\u001b[39;49m\u001b[43mPOOL_SIZE\u001b[49m\u001b[43m,\u001b[49m\u001b[43m \u001b[49m\u001b[43mconfig\u001b[49m\u001b[38;5;241;43m.\u001b[39;49m\u001b[43mNUM_CLASSES\u001b[49m\u001b[43m,\u001b[49m\n\u001b[0;32m   2037\u001b[0m \u001b[43m                             \u001b[49m\u001b[43mtrain_bn\u001b[49m\u001b[38;5;241;43m=\u001b[39;49m\u001b[43mconfig\u001b[49m\u001b[38;5;241;43m.\u001b[39;49m\u001b[43mTRAIN_BN\u001b[49m\u001b[43m,\u001b[49m\n\u001b[0;32m   2038\u001b[0m \u001b[43m                             \u001b[49m\u001b[43mfc_layers_size\u001b[49m\u001b[38;5;241;43m=\u001b[39;49m\u001b[43mconfig\u001b[49m\u001b[38;5;241;43m.\u001b[39;49m\u001b[43mFPN_CLASSIF_FC_LAYERS_SIZE\u001b[49m\u001b[43m)\u001b[49m\n\u001b[0;32m   2040\u001b[0m     \u001b[38;5;66;03m# Detections\u001b[39;00m\n\u001b[0;32m   2041\u001b[0m     \u001b[38;5;66;03m# output is [batch, num_detections, (y1, x1, y2, x2, class_id, score)] in\u001b[39;00m\n\u001b[0;32m   2042\u001b[0m     \u001b[38;5;66;03m# normalized coordinates\u001b[39;00m\n\u001b[0;32m   2043\u001b[0m     detections \u001b[38;5;241m=\u001b[39m DetectionLayer(config, name\u001b[38;5;241m=\u001b[39m\u001b[38;5;124m\"\u001b[39m\u001b[38;5;124mmrcnn_detection\u001b[39m\u001b[38;5;124m\"\u001b[39m)(\n\u001b[0;32m   2044\u001b[0m         [rpn_rois, mrcnn_class, mrcnn_bbox, input_image_meta])\n",
      "File \u001b[1;32m~\\Documents\\GitHub\\Biomedical_AI\\HW3\\Object Detection\\mrcnn\\model.py:951\u001b[0m, in \u001b[0;36mfpn_classifier_graph\u001b[1;34m(rois, feature_maps, image_meta, pool_size, num_classes, train_bn, fc_layers_size)\u001b[0m\n\u001b[0;32m    949\u001b[0m \u001b[38;5;66;03m# Reshape to [batch, num_rois, NUM_CLASSES, (dy, dx, log(dh), log(dw))]\u001b[39;00m\n\u001b[0;32m    950\u001b[0m s \u001b[38;5;241m=\u001b[39m K\u001b[38;5;241m.\u001b[39mint_shape(x)\n\u001b[1;32m--> 951\u001b[0m mrcnn_bbox \u001b[38;5;241m=\u001b[39m \u001b[43mKL\u001b[49m\u001b[38;5;241;43m.\u001b[39;49m\u001b[43mReshape\u001b[49m\u001b[43m(\u001b[49m\u001b[43m(\u001b[49m\u001b[43ms\u001b[49m\u001b[43m[\u001b[49m\u001b[38;5;241;43m1\u001b[39;49m\u001b[43m]\u001b[49m\u001b[43m,\u001b[49m\u001b[43m \u001b[49m\u001b[43mnum_classes\u001b[49m\u001b[43m,\u001b[49m\u001b[43m \u001b[49m\u001b[38;5;241;43m4\u001b[39;49m\u001b[43m)\u001b[49m\u001b[43m,\u001b[49m\u001b[43m \u001b[49m\u001b[43mname\u001b[49m\u001b[38;5;241;43m=\u001b[39;49m\u001b[38;5;124;43m\"\u001b[39;49m\u001b[38;5;124;43mmrcnn_bbox\u001b[39;49m\u001b[38;5;124;43m\"\u001b[39;49m\u001b[43m)\u001b[49m\u001b[43m(\u001b[49m\u001b[43mx\u001b[49m\u001b[43m)\u001b[49m\n\u001b[0;32m    953\u001b[0m \u001b[38;5;28;01mreturn\u001b[39;00m mrcnn_class_logits, mrcnn_probs, mrcnn_bbox\n",
      "File \u001b[1;32m~\\anaconda3\\envs\\tf-gpu\\lib\\site-packages\\keras\\utils\\traceback_utils.py:70\u001b[0m, in \u001b[0;36mfilter_traceback.<locals>.error_handler\u001b[1;34m(*args, **kwargs)\u001b[0m\n\u001b[0;32m     67\u001b[0m     filtered_tb \u001b[38;5;241m=\u001b[39m _process_traceback_frames(e\u001b[38;5;241m.\u001b[39m__traceback__)\n\u001b[0;32m     68\u001b[0m     \u001b[38;5;66;03m# To get the full stack trace, call:\u001b[39;00m\n\u001b[0;32m     69\u001b[0m     \u001b[38;5;66;03m# `tf.debugging.disable_traceback_filtering()`\u001b[39;00m\n\u001b[1;32m---> 70\u001b[0m     \u001b[38;5;28;01mraise\u001b[39;00m e\u001b[38;5;241m.\u001b[39mwith_traceback(filtered_tb) \u001b[38;5;28;01mfrom\u001b[39;00m \u001b[38;5;28mNone\u001b[39m\n\u001b[0;32m     71\u001b[0m \u001b[38;5;28;01mfinally\u001b[39;00m:\n\u001b[0;32m     72\u001b[0m     \u001b[38;5;28;01mdel\u001b[39;00m filtered_tb\n",
      "File \u001b[1;32m~\\anaconda3\\envs\\tf-gpu\\lib\\site-packages\\tensorflow\\python\\framework\\op_def_library.py:573\u001b[0m, in \u001b[0;36m_ExtractInputsAndAttrs\u001b[1;34m(op_type_name, op_def, allowed_list_attr_map, keywords, default_type_attr_map, attrs, inputs, input_types)\u001b[0m\n\u001b[0;32m    570\u001b[0m   observed \u001b[38;5;241m=\u001b[39m ops\u001b[38;5;241m.\u001b[39mconvert_to_tensor(\n\u001b[0;32m    571\u001b[0m       values, as_ref\u001b[38;5;241m=\u001b[39minput_arg\u001b[38;5;241m.\u001b[39mis_ref)\u001b[38;5;241m.\u001b[39mdtype\u001b[38;5;241m.\u001b[39mname\n\u001b[0;32m    572\u001b[0m \u001b[38;5;28;01mexcept\u001b[39;00m \u001b[38;5;167;01mValueError\u001b[39;00m \u001b[38;5;28;01mas\u001b[39;00m err:\n\u001b[1;32m--> 573\u001b[0m   \u001b[38;5;28;01mraise\u001b[39;00m \u001b[38;5;167;01mValueError\u001b[39;00m(\n\u001b[0;32m    574\u001b[0m       \u001b[38;5;124mf\u001b[39m\u001b[38;5;124m\"\u001b[39m\u001b[38;5;124mTried to convert \u001b[39m\u001b[38;5;124m'\u001b[39m\u001b[38;5;132;01m{\u001b[39;00minput_name\u001b[38;5;132;01m}\u001b[39;00m\u001b[38;5;124m'\u001b[39m\u001b[38;5;124m to a tensor and failed. \u001b[39m\u001b[38;5;124m\"\u001b[39m\n\u001b[0;32m    575\u001b[0m       \u001b[38;5;124mf\u001b[39m\u001b[38;5;124m\"\u001b[39m\u001b[38;5;124mError: \u001b[39m\u001b[38;5;132;01m{\u001b[39;00merr\u001b[38;5;132;01m}\u001b[39;00m\u001b[38;5;124m\"\u001b[39m)\n\u001b[0;32m    576\u001b[0m prefix \u001b[38;5;241m=\u001b[39m (\u001b[38;5;124m\"\u001b[39m\u001b[38;5;124mInput \u001b[39m\u001b[38;5;124m'\u001b[39m\u001b[38;5;132;01m%s\u001b[39;00m\u001b[38;5;124m'\u001b[39m\u001b[38;5;124m of \u001b[39m\u001b[38;5;124m'\u001b[39m\u001b[38;5;132;01m%s\u001b[39;00m\u001b[38;5;124m'\u001b[39m\u001b[38;5;124m Op has type \u001b[39m\u001b[38;5;132;01m%s\u001b[39;00m\u001b[38;5;124m that does not match\u001b[39m\u001b[38;5;124m\"\u001b[39m \u001b[38;5;241m%\u001b[39m\n\u001b[0;32m    577\u001b[0m           (input_name, op_type_name, observed))\n\u001b[0;32m    578\u001b[0m \u001b[38;5;28;01mif\u001b[39;00m input_arg\u001b[38;5;241m.\u001b[39mtype \u001b[38;5;241m!=\u001b[39m types_pb2\u001b[38;5;241m.\u001b[39mDT_INVALID:\n",
      "\u001b[1;31mValueError\u001b[0m: Exception encountered when calling layer \"mrcnn_bbox\" (type Reshape).\n\nTried to convert 'shape' to a tensor and failed. Error: None values not supported.\n\nCall arguments received by layer \"mrcnn_bbox\" (type Reshape):\n  • inputs=tf.Tensor(shape=(1, None, 324), dtype=float32)"
     ]
    }
   ],
   "source": [
    "import mrcnn\n",
    "import mrcnn.config\n",
    "import mrcnn.model\n",
    "import mrcnn.visualize\n",
    "import cv2\n",
    "import os\n",
    "\n",
    "# load the class label names from disk, one label per line\n",
    "# CLASS_NAMES = open(\"coco_labels.txt\").read().strip().split(\"\\n\")\n",
    "\n",
    "CLASS_NAMES = ['BG', 'person', 'bicycle', 'car', 'motorcycle', 'airplane', 'bus', 'train', 'truck', 'boat', 'traffic light', 'fire hydrant', 'stop sign', 'parking meter', 'bench', 'bird', 'cat', 'dog', 'horse', 'sheep', 'cow', 'elephant', 'bear', 'zebra', 'giraffe', 'backpack', 'umbrella', 'handbag', 'tie', 'suitcase', 'frisbee', 'skis', 'snowboard', 'sports ball', 'kite', 'baseball bat', 'baseball glove', 'skateboard', 'surfboard', 'tennis racket', 'bottle', 'wine glass', 'cup', 'fork', 'knife', 'spoon', 'bowl', 'banana', 'apple', 'sandwich', 'orange', 'broccoli', 'carrot', 'hot dog', 'pizza', 'donut', 'cake', 'chair', 'couch', 'potted plant', 'bed', 'dining table', 'toilet', 'tv', 'laptop', 'mouse', 'remote', 'keyboard', 'cell phone', 'microwave', 'oven', 'toaster', 'sink', 'refrigerator', 'book', 'clock', 'vase', 'scissors', 'teddy bear', 'hair drier', 'toothbrush']\n",
    "\n",
    "class SimpleConfig(mrcnn.config.Config):\n",
    "    # Give the configuration a recognizable name\n",
    "    NAME = \"coco_inference\"\n",
    "    \n",
    "    # set the number of GPUs to use along with the number of images per GPU\n",
    "    GPU_COUNT = 1\n",
    "    IMAGES_PER_GPU = 1\n",
    "\n",
    "\t# Number of classes = number of classes + 1 (+1 for the background). The background class is named BG\n",
    "    NUM_CLASSES = len(CLASS_NAMES)\n",
    "\n",
    "# Initialize the Mask R-CNN model for inference and then load the weights.\n",
    "# This step builds the Keras model architecture.\n",
    "model = mrcnn.model.MaskRCNN(mode=\"inference\", \n",
    "                             config=SimpleConfig(),\n",
    "                             model_dir=os.getcwd())\n",
    "\n",
    "# Load the weights into the model.\n",
    "model.load_weights(filepath=\"mask_rcnn_coco.h5\", \n",
    "                   by_name=True)\n",
    "\n",
    "# load the input image, convert it from BGR to RGB channel\n",
    "image = cv2.imread(\"test.jpg\")\n",
    "image = cv2.cvtColor(image, cv2.COLOR_BGR2RGB)\n",
    "\n",
    "# Perform a forward pass of the network to obtain the results\n",
    "r = model.detect([image])\n",
    "\n",
    "# Get the results for the first image.\n",
    "r = r[0]\n",
    "\n",
    "# Visualize the detected objects.\n",
    "mrcnn.visualize.display_instances(image=image, \n",
    "                                  boxes=r['rois'], \n",
    "                                  masks=r['masks'], \n",
    "                                  class_ids=r['class_ids'], \n",
    "                                  class_names=CLASS_NAMES, \n",
    "                                  scores=r['scores'])"
   ]
  },
  {
   "cell_type": "code",
   "execution_count": null,
   "id": "f3bcf522-93d7-414a-b2b8-1bc331dcd81b",
   "metadata": {},
   "outputs": [],
   "source": []
  }
 ],
 "metadata": {
  "kernelspec": {
   "display_name": "Python 3 (ipykernel)",
   "language": "python",
   "name": "python3"
  },
  "language_info": {
   "codemirror_mode": {
    "name": "ipython",
    "version": 3
   },
   "file_extension": ".py",
   "mimetype": "text/x-python",
   "name": "python",
   "nbconvert_exporter": "python",
   "pygments_lexer": "ipython3",
   "version": "3.9.16"
  }
 },
 "nbformat": 4,
 "nbformat_minor": 5
}
