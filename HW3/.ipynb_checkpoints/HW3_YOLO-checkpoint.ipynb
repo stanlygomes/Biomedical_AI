{
 "cells": [
  {
   "cell_type": "markdown",
   "id": "630aefcb-5954-4f81-bfb6-6e4e98ead5c6",
   "metadata": {},
   "source": [
    "## YOLO Model"
   ]
  },
  {
   "cell_type": "code",
   "execution_count": 1,
   "id": "178b9348-5c1c-498e-a45c-d283737872d6",
   "metadata": {},
   "outputs": [],
   "source": [
    "from ultralytics import YOLO\n",
    "import cv2"
   ]
  },
  {
   "cell_type": "markdown",
   "id": "5a825189-59e9-40b4-8f5c-c0a3788eca6b",
   "metadata": {},
   "source": [
    "Build a model from pretrained weights and train off a subset of BDD100K dataset:\n",
    "\n",
    "-Training set: 55 images\n",
    "\n",
    "-Validation set: 55 images\n",
    "\n",
    "-Resize: 640\n",
    "\n",
    "-Epochs: 10"
   ]
  },
  {
   "cell_type": "code",
   "execution_count": null,
   "id": "0b56cbcc-bc51-4118-9ccb-d7fe8b1a0452",
   "metadata": {},
   "outputs": [],
   "source": [
    "model = YOLO(\"yolov8n.pt\")\n",
    "model.train(data=\"bdd100k.yaml\", epochs=10, imgsz=640)"
   ]
  },
  {
   "cell_type": "markdown",
   "id": "8d502edc-3104-45fe-930f-989581e1b9aa",
   "metadata": {},
   "source": [
    "Run HW3_YOLO.py file in terminal with: python HW3_YOLO.py"
   ]
  }
 ],
 "metadata": {
  "kernelspec": {
   "display_name": "Python 3 (ipykernel)",
   "language": "python",
   "name": "python3"
  },
  "language_info": {
   "codemirror_mode": {
    "name": "ipython",
    "version": 3
   },
   "file_extension": ".py",
   "mimetype": "text/x-python",
   "name": "python",
   "nbconvert_exporter": "python",
   "pygments_lexer": "ipython3",
   "version": "3.9.16"
  }
 },
 "nbformat": 4,
 "nbformat_minor": 5
}
